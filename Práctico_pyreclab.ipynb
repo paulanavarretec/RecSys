{
  "nbformat": 4,
  "nbformat_minor": 0,
  "metadata": {
    "colab": {
      "name": "Práctico pyreclab.ipynb",
      "version": "0.3.2",
      "provenance": [],
      "collapsed_sections": [],
      "toc_visible": true,
      "include_colab_link": true
    },
    "kernelspec": {
      "display_name": "Python [default]",
      "language": "python",
      "name": "python3"
    },
    "accelerator": "GPU"
  },
  "cells": [
    {
      "cell_type": "markdown",
      "metadata": {
        "id": "view-in-github",
        "colab_type": "text"
      },
      "source": [
        "[View in Colaboratory](https://colab.research.google.com/github/paulanavarretec/RecSys/blob/master/Pr%C3%A1ctico_pyreclab.ipynb)"
      ]
    },
    {
      "metadata": {
        "id": "NC-ceGb8LRLT",
        "colab_type": "text"
      },
      "cell_type": "markdown",
      "source": [
        "# Ayudantía 1 - Sistemas Recomendadores: Pyreclab"
      ]
    },
    {
      "metadata": {
        "id": "mACJbcW8T35p",
        "colab_type": "text"
      },
      "cell_type": "markdown",
      "source": [
        "En este práctico vamos a utilizar la biblioteca de Python [pyreclab](https://github.com/gasevi/pyreclab), desarrollado por los Laboratorios IALab y SocVis de la Pontificia Universidad Católica de Chile, para aprender sobre algoritmos básicos y tradicionales de sistemas de recomendacion:\n",
        "\n",
        "\n",
        "*   Most Popular\n",
        "*   Item Average Rating\n",
        "*   User KNN (Filtrado colaborativo basado en usuarios)\n",
        "\n",
        "\n",
        "**Autores**: Denis Parra, Gabriel Sepúlveda\n",
        "\n",
        "**Adaptado para Sistemas Recomendadores (IIC3633) por**: Manuel Cartagena, Antonio Ossa\n"
      ]
    },
    {
      "metadata": {
        "id": "9qKTQ2V5VKSX",
        "colab_type": "text"
      },
      "cell_type": "markdown",
      "source": [
        "## Setup\n",
        "\n",
        "Vaya ejecutando cada celda presionando el botón de Play o presionando Ctrl+Enter (Linux y Windows) o Command+Enter (OSX)"
      ]
    },
    {
      "metadata": {
        "id": "LJuUuUB-LahX",
        "colab_type": "text"
      },
      "cell_type": "markdown",
      "source": [
        "**Paso 1:** Descargue los siguientes tres archivos, siguiendo los links, a su computador local (`u1.base`, `u1.test` y `u.item`, respectivamente)\n",
        "\n",
        "https://drive.google.com/file/d/1Anro2DyEgN0sUHXFyxVe2qoSya6hzQSp/view?usp=sharing\n",
        "\n",
        "https://drive.google.com/file/d/1Awy3QKCdkSpNeRXATqRBUMi56M47Ia0n/view?usp=sharing\n",
        "\n",
        "https://drive.google.com/file/d/1B7QhEodQ13QlOHOTp9zaa52exlfgAOl3/view?usp=sharing\n"
      ]
    },
    {
      "metadata": {
        "id": "SEF-5tx457eB",
        "colab_type": "code",
        "colab": {
          "resources": {
            "http://localhost:8080/nbextensions/google.colab/files.js": {
              "data": "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",
              "ok": true,
              "headers": [
                [
                  "content-type",
                  "application/javascript"
                ]
              ],
              "status": 200,
              "status_text": ""
            }
          },
          "base_uri": "https://localhost:8080/",
          "height": 554
        },
        "cellView": "both",
        "outputId": "58a374a5-8eca-408f-9a1d-80f313cb7424"
      },
      "cell_type": "code",
      "source": [
        "# Ejecute esta celda. Deberá subir los archivos u1.base, u1.test y u.item\n",
        "from google.colab import files\n",
        "uploaded = files.upload()"
      ],
      "execution_count": 1,
      "outputs": [
        {
          "output_type": "display_data",
          "data": {
            "text/html": [
              "\n",
              "     <input type=\"file\" id=\"files-bbc0d6ce-cda5-4d65-88ec-a59217a572e5\" name=\"files[]\" multiple disabled />\n",
              "     <output id=\"result-bbc0d6ce-cda5-4d65-88ec-a59217a572e5\">\n",
              "      Upload widget is only available when the cell has been executed in the\n",
              "      current browser session. Please rerun this cell to enable.\n",
              "      </output>\n",
              "      <script src=\"/nbextensions/google.colab/files.js\"></script> "
            ],
            "text/plain": [
              "<IPython.core.display.HTML object>"
            ]
          },
          "metadata": {
            "tags": []
          }
        },
        {
          "output_type": "error",
          "ename": "KeyboardInterrupt",
          "evalue": "ignored",
          "traceback": [
            "\u001b[0;31m---------------------------------------------------------------------------\u001b[0m",
            "\u001b[0;31mKeyboardInterrupt\u001b[0m                         Traceback (most recent call last)",
            "\u001b[0;32m<ipython-input-1-21dc3c638f66>\u001b[0m in \u001b[0;36m<module>\u001b[0;34m()\u001b[0m\n\u001b[1;32m      1\u001b[0m \u001b[0;32mfrom\u001b[0m \u001b[0mgoogle\u001b[0m\u001b[0;34m.\u001b[0m\u001b[0mcolab\u001b[0m \u001b[0;32mimport\u001b[0m \u001b[0mfiles\u001b[0m\u001b[0;34m\u001b[0m\u001b[0m\n\u001b[0;32m----> 2\u001b[0;31m \u001b[0muploaded\u001b[0m \u001b[0;34m=\u001b[0m \u001b[0mfiles\u001b[0m\u001b[0;34m.\u001b[0m\u001b[0mupload\u001b[0m\u001b[0;34m(\u001b[0m\u001b[0;34m)\u001b[0m\u001b[0;34m\u001b[0m\u001b[0m\n\u001b[0m",
            "\u001b[0;32m/usr/local/lib/python3.6/dist-packages/google/colab/files.py\u001b[0m in \u001b[0;36mupload\u001b[0;34m()\u001b[0m\n\u001b[1;32m     60\u001b[0m   result = output.eval_js(\n\u001b[1;32m     61\u001b[0m       'google.colab._files._uploadFiles(\"{input_id}\", \"{output_id}\")'.format(\n\u001b[0;32m---> 62\u001b[0;31m           input_id=input_id, output_id=output_id))\n\u001b[0m\u001b[1;32m     63\u001b[0m   \u001b[0mfiles\u001b[0m \u001b[0;34m=\u001b[0m \u001b[0mcollections\u001b[0m\u001b[0;34m.\u001b[0m\u001b[0mdefaultdict\u001b[0m\u001b[0;34m(\u001b[0m\u001b[0msix\u001b[0m\u001b[0;34m.\u001b[0m\u001b[0mbinary_type\u001b[0m\u001b[0;34m)\u001b[0m\u001b[0;34m\u001b[0m\u001b[0m\n\u001b[1;32m     64\u001b[0m   \u001b[0;31m# Mapping from original filename to filename as saved locally.\u001b[0m\u001b[0;34m\u001b[0m\u001b[0;34m\u001b[0m\u001b[0m\n",
            "\u001b[0;32m/usr/local/lib/python3.6/dist-packages/google/colab/output/_js.py\u001b[0m in \u001b[0;36meval_js\u001b[0;34m(script, ignore_result)\u001b[0m\n\u001b[1;32m     37\u001b[0m   \u001b[0;32mif\u001b[0m \u001b[0mignore_result\u001b[0m\u001b[0;34m:\u001b[0m\u001b[0;34m\u001b[0m\u001b[0m\n\u001b[1;32m     38\u001b[0m     \u001b[0;32mreturn\u001b[0m\u001b[0;34m\u001b[0m\u001b[0m\n\u001b[0;32m---> 39\u001b[0;31m   \u001b[0;32mreturn\u001b[0m \u001b[0m_message\u001b[0m\u001b[0;34m.\u001b[0m\u001b[0mread_reply_from_input\u001b[0m\u001b[0;34m(\u001b[0m\u001b[0mrequest_id\u001b[0m\u001b[0;34m)\u001b[0m\u001b[0;34m\u001b[0m\u001b[0m\n\u001b[0m\u001b[1;32m     40\u001b[0m \u001b[0;34m\u001b[0m\u001b[0m\n\u001b[1;32m     41\u001b[0m \u001b[0;34m\u001b[0m\u001b[0m\n",
            "\u001b[0;32m/usr/local/lib/python3.6/dist-packages/google/colab/_message.py\u001b[0m in \u001b[0;36mread_reply_from_input\u001b[0;34m(message_id, timeout_sec)\u001b[0m\n\u001b[1;32m     99\u001b[0m     \u001b[0mreply\u001b[0m \u001b[0;34m=\u001b[0m \u001b[0m_read_next_input_message\u001b[0m\u001b[0;34m(\u001b[0m\u001b[0;34m)\u001b[0m\u001b[0;34m\u001b[0m\u001b[0m\n\u001b[1;32m    100\u001b[0m     \u001b[0;32mif\u001b[0m \u001b[0mreply\u001b[0m \u001b[0;34m==\u001b[0m \u001b[0m_NOT_READY\u001b[0m \u001b[0;32mor\u001b[0m \u001b[0;32mnot\u001b[0m \u001b[0misinstance\u001b[0m\u001b[0;34m(\u001b[0m\u001b[0mreply\u001b[0m\u001b[0;34m,\u001b[0m \u001b[0mdict\u001b[0m\u001b[0;34m)\u001b[0m\u001b[0;34m:\u001b[0m\u001b[0;34m\u001b[0m\u001b[0m\n\u001b[0;32m--> 101\u001b[0;31m       \u001b[0mtime\u001b[0m\u001b[0;34m.\u001b[0m\u001b[0msleep\u001b[0m\u001b[0;34m(\u001b[0m\u001b[0;36m0.025\u001b[0m\u001b[0;34m)\u001b[0m\u001b[0;34m\u001b[0m\u001b[0m\n\u001b[0m\u001b[1;32m    102\u001b[0m       \u001b[0;32mcontinue\u001b[0m\u001b[0;34m\u001b[0m\u001b[0m\n\u001b[1;32m    103\u001b[0m     if (reply.get('type') == 'colab_reply' and\n",
            "\u001b[0;31mKeyboardInterrupt\u001b[0m: "
          ]
        }
      ]
    },
    {
      "metadata": {
        "id": "liJ3L2kl4g1o",
        "colab_type": "text"
      },
      "cell_type": "markdown",
      "source": [
        "Los archivos u1.base y u1.test tienen tuplas {usuario, item, rating, timestamp}, que es la información de preferencias de usuarios sobre películas en una muestra del dataset [MovieLens](https://grouplens.org/datasets/movielens/).\n",
        "\n",
        "Revisemos cómo es uno de estos archivos:"
      ]
    },
    {
      "metadata": {
        "id": "10N9GHcw5AeV",
        "colab_type": "code",
        "colab": {
          "base_uri": "https://localhost:8080/",
          "height": 195
        },
        "outputId": "d8765841-c70d-4bf0-973d-d816144e0081"
      },
      "cell_type": "code",
      "source": [
        "import pandas as pd\n",
        "\n",
        "train_file = pd.read_csv('u1.base',\n",
        "                         sep='\\t',\n",
        "                         names = ['userid', 'itemid', 'rating', 'timestamp'],\n",
        "                         header=None)\n",
        "train_file.head()"
      ],
      "execution_count": 2,
      "outputs": [
        {
          "output_type": "execute_result",
          "data": {
            "text/html": [
              "<div>\n",
              "<style scoped>\n",
              "    .dataframe tbody tr th:only-of-type {\n",
              "        vertical-align: middle;\n",
              "    }\n",
              "\n",
              "    .dataframe tbody tr th {\n",
              "        vertical-align: top;\n",
              "    }\n",
              "\n",
              "    .dataframe thead th {\n",
              "        text-align: right;\n",
              "    }\n",
              "</style>\n",
              "<table border=\"1\" class=\"dataframe\">\n",
              "  <thead>\n",
              "    <tr style=\"text-align: right;\">\n",
              "      <th></th>\n",
              "      <th>userid</th>\n",
              "      <th>itemid</th>\n",
              "      <th>rating</th>\n",
              "      <th>timestamp</th>\n",
              "    </tr>\n",
              "  </thead>\n",
              "  <tbody>\n",
              "    <tr>\n",
              "      <th>0</th>\n",
              "      <td>1</td>\n",
              "      <td>1</td>\n",
              "      <td>5</td>\n",
              "      <td>874965758</td>\n",
              "    </tr>\n",
              "    <tr>\n",
              "      <th>1</th>\n",
              "      <td>1</td>\n",
              "      <td>2</td>\n",
              "      <td>3</td>\n",
              "      <td>876893171</td>\n",
              "    </tr>\n",
              "    <tr>\n",
              "      <th>2</th>\n",
              "      <td>1</td>\n",
              "      <td>3</td>\n",
              "      <td>4</td>\n",
              "      <td>878542960</td>\n",
              "    </tr>\n",
              "    <tr>\n",
              "      <th>3</th>\n",
              "      <td>1</td>\n",
              "      <td>4</td>\n",
              "      <td>3</td>\n",
              "      <td>876893119</td>\n",
              "    </tr>\n",
              "    <tr>\n",
              "      <th>4</th>\n",
              "      <td>1</td>\n",
              "      <td>5</td>\n",
              "      <td>3</td>\n",
              "      <td>889751712</td>\n",
              "    </tr>\n",
              "  </tbody>\n",
              "</table>\n",
              "</div>"
            ],
            "text/plain": [
              "   userid  itemid  rating  timestamp\n",
              "0       1       1       5  874965758\n",
              "1       1       2       3  876893171\n",
              "2       1       3       4  878542960\n",
              "3       1       4       3  876893119\n",
              "4       1       5       3  889751712"
            ]
          },
          "metadata": {
            "tags": []
          },
          "execution_count": 2
        }
      ]
    },
    {
      "metadata": {
        "id": "BKOrcfaiEdqM",
        "colab_type": "text"
      },
      "cell_type": "markdown",
      "source": [
        "Por otra parte, para obtener información adicional de cada película tal como *título*, *fecha de lanzamient*o, *género*, etc., cargaremos el archivo de items descargado ( *u.item* ) para poder mapear cada identificador de ítem al conjunto de datos que lo describe.\n",
        "Revisemos el contenido de este archivo"
      ]
    },
    {
      "metadata": {
        "id": "bVtvxJnr_yeK",
        "colab_type": "code",
        "colab": {
          "base_uri": "https://localhost:8080/",
          "height": 408
        },
        "outputId": "7cebbee2-7c50-4795-dd13-924e2c6639c9"
      },
      "cell_type": "code",
      "source": [
        "info_cols = [ 'movieid', 'title', 'release_date', 'video_release_date', 'IMDb_URL', \\\n",
        "              'unknown', 'Action', 'Adventure', 'Animation', 'Children', 'Comedy', \\\n",
        "              'Crime', 'Documentary', 'Drama', 'Fantasy', 'Film-Noir', 'Horror', \\\n",
        "              'Musical', 'Mystery', 'Romance', 'Sci-Fi', 'Thriller', 'War', 'Western' ]\n",
        "\n",
        "info_file = pd.read_csv('u.item', sep='|', index_col = 0, names = info_cols, header=None, encoding='latin-1')\n",
        "\n",
        "info_file.head()"
      ],
      "execution_count": 3,
      "outputs": [
        {
          "output_type": "execute_result",
          "data": {
            "text/html": [
              "<div>\n",
              "<style scoped>\n",
              "    .dataframe tbody tr th:only-of-type {\n",
              "        vertical-align: middle;\n",
              "    }\n",
              "\n",
              "    .dataframe tbody tr th {\n",
              "        vertical-align: top;\n",
              "    }\n",
              "\n",
              "    .dataframe thead th {\n",
              "        text-align: right;\n",
              "    }\n",
              "</style>\n",
              "<table border=\"1\" class=\"dataframe\">\n",
              "  <thead>\n",
              "    <tr style=\"text-align: right;\">\n",
              "      <th></th>\n",
              "      <th>title</th>\n",
              "      <th>release_date</th>\n",
              "      <th>video_release_date</th>\n",
              "      <th>IMDb_URL</th>\n",
              "      <th>unknown</th>\n",
              "      <th>Action</th>\n",
              "      <th>Adventure</th>\n",
              "      <th>Animation</th>\n",
              "      <th>Children</th>\n",
              "      <th>Comedy</th>\n",
              "      <th>...</th>\n",
              "      <th>Fantasy</th>\n",
              "      <th>Film-Noir</th>\n",
              "      <th>Horror</th>\n",
              "      <th>Musical</th>\n",
              "      <th>Mystery</th>\n",
              "      <th>Romance</th>\n",
              "      <th>Sci-Fi</th>\n",
              "      <th>Thriller</th>\n",
              "      <th>War</th>\n",
              "      <th>Western</th>\n",
              "    </tr>\n",
              "    <tr>\n",
              "      <th>movieid</th>\n",
              "      <th></th>\n",
              "      <th></th>\n",
              "      <th></th>\n",
              "      <th></th>\n",
              "      <th></th>\n",
              "      <th></th>\n",
              "      <th></th>\n",
              "      <th></th>\n",
              "      <th></th>\n",
              "      <th></th>\n",
              "      <th></th>\n",
              "      <th></th>\n",
              "      <th></th>\n",
              "      <th></th>\n",
              "      <th></th>\n",
              "      <th></th>\n",
              "      <th></th>\n",
              "      <th></th>\n",
              "      <th></th>\n",
              "      <th></th>\n",
              "      <th></th>\n",
              "    </tr>\n",
              "  </thead>\n",
              "  <tbody>\n",
              "    <tr>\n",
              "      <th>1</th>\n",
              "      <td>Toy Story (1995)</td>\n",
              "      <td>01-Jan-1995</td>\n",
              "      <td>NaN</td>\n",
              "      <td>http://us.imdb.com/M/title-exact?Toy%20Story%2...</td>\n",
              "      <td>0</td>\n",
              "      <td>0</td>\n",
              "      <td>0</td>\n",
              "      <td>1</td>\n",
              "      <td>1</td>\n",
              "      <td>1</td>\n",
              "      <td>...</td>\n",
              "      <td>0</td>\n",
              "      <td>0</td>\n",
              "      <td>0</td>\n",
              "      <td>0</td>\n",
              "      <td>0</td>\n",
              "      <td>0</td>\n",
              "      <td>0</td>\n",
              "      <td>0</td>\n",
              "      <td>0</td>\n",
              "      <td>0</td>\n",
              "    </tr>\n",
              "    <tr>\n",
              "      <th>2</th>\n",
              "      <td>GoldenEye (1995)</td>\n",
              "      <td>01-Jan-1995</td>\n",
              "      <td>NaN</td>\n",
              "      <td>http://us.imdb.com/M/title-exact?GoldenEye%20(...</td>\n",
              "      <td>0</td>\n",
              "      <td>1</td>\n",
              "      <td>1</td>\n",
              "      <td>0</td>\n",
              "      <td>0</td>\n",
              "      <td>0</td>\n",
              "      <td>...</td>\n",
              "      <td>0</td>\n",
              "      <td>0</td>\n",
              "      <td>0</td>\n",
              "      <td>0</td>\n",
              "      <td>0</td>\n",
              "      <td>0</td>\n",
              "      <td>0</td>\n",
              "      <td>1</td>\n",
              "      <td>0</td>\n",
              "      <td>0</td>\n",
              "    </tr>\n",
              "    <tr>\n",
              "      <th>3</th>\n",
              "      <td>Four Rooms (1995)</td>\n",
              "      <td>01-Jan-1995</td>\n",
              "      <td>NaN</td>\n",
              "      <td>http://us.imdb.com/M/title-exact?Four%20Rooms%...</td>\n",
              "      <td>0</td>\n",
              "      <td>0</td>\n",
              "      <td>0</td>\n",
              "      <td>0</td>\n",
              "      <td>0</td>\n",
              "      <td>0</td>\n",
              "      <td>...</td>\n",
              "      <td>0</td>\n",
              "      <td>0</td>\n",
              "      <td>0</td>\n",
              "      <td>0</td>\n",
              "      <td>0</td>\n",
              "      <td>0</td>\n",
              "      <td>0</td>\n",
              "      <td>1</td>\n",
              "      <td>0</td>\n",
              "      <td>0</td>\n",
              "    </tr>\n",
              "    <tr>\n",
              "      <th>4</th>\n",
              "      <td>Get Shorty (1995)</td>\n",
              "      <td>01-Jan-1995</td>\n",
              "      <td>NaN</td>\n",
              "      <td>http://us.imdb.com/M/title-exact?Get%20Shorty%...</td>\n",
              "      <td>0</td>\n",
              "      <td>1</td>\n",
              "      <td>0</td>\n",
              "      <td>0</td>\n",
              "      <td>0</td>\n",
              "      <td>1</td>\n",
              "      <td>...</td>\n",
              "      <td>0</td>\n",
              "      <td>0</td>\n",
              "      <td>0</td>\n",
              "      <td>0</td>\n",
              "      <td>0</td>\n",
              "      <td>0</td>\n",
              "      <td>0</td>\n",
              "      <td>0</td>\n",
              "      <td>0</td>\n",
              "      <td>0</td>\n",
              "    </tr>\n",
              "    <tr>\n",
              "      <th>5</th>\n",
              "      <td>Copycat (1995)</td>\n",
              "      <td>01-Jan-1995</td>\n",
              "      <td>NaN</td>\n",
              "      <td>http://us.imdb.com/M/title-exact?Copycat%20(1995)</td>\n",
              "      <td>0</td>\n",
              "      <td>0</td>\n",
              "      <td>0</td>\n",
              "      <td>0</td>\n",
              "      <td>0</td>\n",
              "      <td>0</td>\n",
              "      <td>...</td>\n",
              "      <td>0</td>\n",
              "      <td>0</td>\n",
              "      <td>0</td>\n",
              "      <td>0</td>\n",
              "      <td>0</td>\n",
              "      <td>0</td>\n",
              "      <td>0</td>\n",
              "      <td>1</td>\n",
              "      <td>0</td>\n",
              "      <td>0</td>\n",
              "    </tr>\n",
              "  </tbody>\n",
              "</table>\n",
              "<p>5 rows × 23 columns</p>\n",
              "</div>"
            ],
            "text/plain": [
              "                     title release_date  video_release_date  \\\n",
              "movieid                                                       \n",
              "1         Toy Story (1995)  01-Jan-1995                 NaN   \n",
              "2         GoldenEye (1995)  01-Jan-1995                 NaN   \n",
              "3        Four Rooms (1995)  01-Jan-1995                 NaN   \n",
              "4        Get Shorty (1995)  01-Jan-1995                 NaN   \n",
              "5           Copycat (1995)  01-Jan-1995                 NaN   \n",
              "\n",
              "                                                  IMDb_URL  unknown  Action  \\\n",
              "movieid                                                                       \n",
              "1        http://us.imdb.com/M/title-exact?Toy%20Story%2...        0       0   \n",
              "2        http://us.imdb.com/M/title-exact?GoldenEye%20(...        0       1   \n",
              "3        http://us.imdb.com/M/title-exact?Four%20Rooms%...        0       0   \n",
              "4        http://us.imdb.com/M/title-exact?Get%20Shorty%...        0       1   \n",
              "5        http://us.imdb.com/M/title-exact?Copycat%20(1995)        0       0   \n",
              "\n",
              "         Adventure  Animation  Children  Comedy   ...     Fantasy  Film-Noir  \\\n",
              "movieid                                           ...                          \n",
              "1                0          1         1       1   ...           0          0   \n",
              "2                1          0         0       0   ...           0          0   \n",
              "3                0          0         0       0   ...           0          0   \n",
              "4                0          0         0       1   ...           0          0   \n",
              "5                0          0         0       0   ...           0          0   \n",
              "\n",
              "         Horror  Musical  Mystery  Romance  Sci-Fi  Thriller  War  Western  \n",
              "movieid                                                                     \n",
              "1             0        0        0        0       0         0    0        0  \n",
              "2             0        0        0        0       0         1    0        0  \n",
              "3             0        0        0        0       0         1    0        0  \n",
              "4             0        0        0        0       0         0    0        0  \n",
              "5             0        0        0        0       0         1    0        0  \n",
              "\n",
              "[5 rows x 23 columns]"
            ]
          },
          "metadata": {
            "tags": []
          },
          "execution_count": 3
        }
      ]
    },
    {
      "metadata": {
        "id": "3JsjHzBFGqQI",
        "colab_type": "code",
        "colab": {
          "base_uri": "https://localhost:8080/",
          "height": 225
        },
        "outputId": "6d022463-7ae7-4883-dfb1-6c08fdc5472e"
      },
      "cell_type": "code",
      "source": [
        "# Ejemplo de cómo visualizar titulos de peliculas en base a sus IDs (le agregué que aparte me muestre otras características)\n",
        "pelis = [5,4,1,2,3]\n",
        "info_file.loc[pelis][['title', 'release_date','Adventure']]"
      ],
      "execution_count": 14,
      "outputs": [
        {
          "output_type": "execute_result",
          "data": {
            "text/html": [
              "<div>\n",
              "<style scoped>\n",
              "    .dataframe tbody tr th:only-of-type {\n",
              "        vertical-align: middle;\n",
              "    }\n",
              "\n",
              "    .dataframe tbody tr th {\n",
              "        vertical-align: top;\n",
              "    }\n",
              "\n",
              "    .dataframe thead th {\n",
              "        text-align: right;\n",
              "    }\n",
              "</style>\n",
              "<table border=\"1\" class=\"dataframe\">\n",
              "  <thead>\n",
              "    <tr style=\"text-align: right;\">\n",
              "      <th></th>\n",
              "      <th>title</th>\n",
              "      <th>release_date</th>\n",
              "      <th>Adventure</th>\n",
              "    </tr>\n",
              "    <tr>\n",
              "      <th>movieid</th>\n",
              "      <th></th>\n",
              "      <th></th>\n",
              "      <th></th>\n",
              "    </tr>\n",
              "  </thead>\n",
              "  <tbody>\n",
              "    <tr>\n",
              "      <th>5</th>\n",
              "      <td>Copycat (1995)</td>\n",
              "      <td>01-Jan-1995</td>\n",
              "      <td>0</td>\n",
              "    </tr>\n",
              "    <tr>\n",
              "      <th>4</th>\n",
              "      <td>Get Shorty (1995)</td>\n",
              "      <td>01-Jan-1995</td>\n",
              "      <td>0</td>\n",
              "    </tr>\n",
              "    <tr>\n",
              "      <th>1</th>\n",
              "      <td>Toy Story (1995)</td>\n",
              "      <td>01-Jan-1995</td>\n",
              "      <td>0</td>\n",
              "    </tr>\n",
              "    <tr>\n",
              "      <th>2</th>\n",
              "      <td>GoldenEye (1995)</td>\n",
              "      <td>01-Jan-1995</td>\n",
              "      <td>1</td>\n",
              "    </tr>\n",
              "    <tr>\n",
              "      <th>3</th>\n",
              "      <td>Four Rooms (1995)</td>\n",
              "      <td>01-Jan-1995</td>\n",
              "      <td>0</td>\n",
              "    </tr>\n",
              "  </tbody>\n",
              "</table>\n",
              "</div>"
            ],
            "text/plain": [
              "                     title release_date  Adventure\n",
              "movieid                                           \n",
              "5           Copycat (1995)  01-Jan-1995          0\n",
              "4        Get Shorty (1995)  01-Jan-1995          0\n",
              "1         Toy Story (1995)  01-Jan-1995          0\n",
              "2         GoldenEye (1995)  01-Jan-1995          1\n",
              "3        Four Rooms (1995)  01-Jan-1995          0"
            ]
          },
          "metadata": {
            "tags": []
          },
          "execution_count": 14
        }
      ]
    },
    {
      "metadata": {
        "id": "vypumB0LLl6B",
        "colab_type": "text"
      },
      "cell_type": "markdown",
      "source": [
        "**Paso 2:** Instalar `pyreclab`\n",
        "\n"
      ]
    },
    {
      "metadata": {
        "id": "nbtrMHvG6uIt",
        "colab_type": "code",
        "colab": {
          "base_uri": "https://localhost:8080/",
          "height": 101
        },
        "outputId": "d869dccf-1226-4660-f9e1-f6bdf62e4f24"
      },
      "cell_type": "code",
      "source": [
        "!pip install pyreclab"
      ],
      "execution_count": 15,
      "outputs": [
        {
          "output_type": "stream",
          "text": [
            "Collecting pyreclab\n",
            "\u001b[?25l  Downloading https://files.pythonhosted.org/packages/7a/2d/9a92720ebf71d0a497a0c488c39dc1f9a3814000fc834b34655c57eaaab1/pyreclab-0.1.11-cp36-cp36m-manylinux1_x86_64.whl (143kB)\n",
            "\u001b[K    100% |████████████████████████████████| 143kB 5.2MB/s \n",
            "\u001b[?25hInstalling collected packages: pyreclab\n",
            "Successfully installed pyreclab-0.1.11\n"
          ],
          "name": "stdout"
        }
      ]
    },
    {
      "metadata": {
        "id": "8xjAMaNz-4dO",
        "colab_type": "text"
      },
      "cell_type": "markdown",
      "source": [
        "**Paso 3:** Importar `pyreclab` y `numpy`"
      ]
    },
    {
      "metadata": {
        "id": "nv7g1e_i6wBY",
        "colab_type": "code",
        "colab": {}
      },
      "cell_type": "code",
      "source": [
        "import pyreclab\n",
        "import numpy as np"
      ],
      "execution_count": 0,
      "outputs": []
    },
    {
      "metadata": {
        "id": "P7nyS9R9d9Kh",
        "colab_type": "text"
      },
      "cell_type": "markdown",
      "source": [
        "## Uso de algoritmos"
      ]
    },
    {
      "metadata": {
        "id": "GE4tE6_aeEiw",
        "colab_type": "text"
      },
      "cell_type": "markdown",
      "source": [
        "### *Most Popular*"
      ]
    },
    {
      "metadata": {
        "id": "ayKBs3MSS1JZ",
        "colab_type": "code",
        "colab": {}
      },
      "cell_type": "code",
      "source": [
        "# Declarar el objeto recomendador de la clase MostPopular\n",
        "mymp = pyreclab.MostPopular(dataset='u1.base',\n",
        "                            dlmchar= b'\\t',\n",
        "                            header=False,\n",
        "                            usercol=0,\n",
        "                            itemcol=1,\n",
        "                            ratingcol=2)\n"
      ],
      "execution_count": 0,
      "outputs": []
    },
    {
      "metadata": {
        "id": "yt-4Z9XlTH8s",
        "colab_type": "code",
        "colab": {}
      },
      "cell_type": "code",
      "source": [
        "# Entrenamos el modelo con los datos existentes\n",
        "mymp.train()"
      ],
      "execution_count": 0,
      "outputs": []
    },
    {
      "metadata": {
        "id": "Irtfxu6QaGb_",
        "colab_type": "text"
      },
      "cell_type": "markdown",
      "source": [
        "El método ***Most Popular*** calcula el número de veces que fue consumido cada ítem, así puede recomendar los más populares. Con este método no podemos predecir *ratings*, pero sí podemos recomendar. La recomendación no es personalizada, es la misma para todos los usuarios."
      ]
    },
    {
      "metadata": {
        "id": "hm1kj3CiTVq5",
        "colab_type": "code",
        "colab": {
          "base_uri": "https://localhost:8080/",
          "height": 454
        },
        "outputId": "25fa2db4-6487-4506-cfe1-c2d199cc0c4b"
      },
      "cell_type": "code",
      "source": [
        "reclist = mymp.recommend(\"457\")\n",
        "print(reclist)\n",
        "\n",
        "pelis = np.array(reclist).astype(int)\n",
        "print(info_file.loc[pelis]['title'])\n",
        "\n",
        "reclist = mymp.recommend(\"1\")\n",
        "print(reclist)\n",
        "\n",
        "pelis = np.array(reclist).astype(int)\n",
        "print(info_file.loc[pelis]['title'])\n"
      ],
      "execution_count": 45,
      "outputs": [
        {
          "output_type": "stream",
          "text": [
            "['181', '258', '294', '127', '56', '237', '7', '172', '405', '313']\n",
            "movieid\n",
            "181          Return of the Jedi (1983)\n",
            "258                     Contact (1997)\n",
            "294                   Liar Liar (1997)\n",
            "127              Godfather, The (1972)\n",
            "56                 Pulp Fiction (1994)\n",
            "237               Jerry Maguire (1996)\n",
            "7                Twelve Monkeys (1995)\n",
            "172    Empire Strikes Back, The (1980)\n",
            "405         Mission: Impossible (1996)\n",
            "313                     Titanic (1997)\n",
            "Name: title, dtype: object\n",
            "['124', '419', '203', '732', '367', '751', '566', '319', '147', '514']\n",
            "movieid\n",
            "124                   Lone Star (1996)\n",
            "419                Mary Poppins (1964)\n",
            "203                  Unforgiven (1992)\n",
            "732                        Dave (1993)\n",
            "367                    Clueless (1995)\n",
            "751         Tomorrow Never Dies (1997)\n",
            "566    Clear and Present Danger (1994)\n",
            "319    Everyone Says I Love You (1996)\n",
            "147    Long Kiss Goodnight, The (1996)\n",
            "514                  Annie Hall (1977)\n",
            "Name: title, dtype: object\n"
          ],
          "name": "stdout"
        }
      ]
    },
    {
      "metadata": {
        "id": "g06HSOn6KVoj",
        "colab_type": "code",
        "colab": {
          "base_uri": "https://localhost:8080/",
          "height": 218
        },
        "outputId": "ac1663d6-bcb5-4da5-fae3-fa5d2848f455"
      },
      "cell_type": "code",
      "source": [
        "# Con esto podemos ver las recomendaciones con titulo de película\n",
        "pelis = np.array(reclist).astype(int)\n",
        "info_file.loc[pelis]['title']"
      ],
      "execution_count": 20,
      "outputs": [
        {
          "output_type": "execute_result",
          "data": {
            "text/plain": [
              "movieid\n",
              "181          Return of the Jedi (1983)\n",
              "258                     Contact (1997)\n",
              "294                   Liar Liar (1997)\n",
              "127              Godfather, The (1972)\n",
              "56                 Pulp Fiction (1994)\n",
              "237               Jerry Maguire (1996)\n",
              "7                Twelve Monkeys (1995)\n",
              "172    Empire Strikes Back, The (1980)\n",
              "405         Mission: Impossible (1996)\n",
              "313                     Titanic (1997)\n",
              "Name: title, dtype: object"
            ]
          },
          "metadata": {
            "tags": []
          },
          "execution_count": 20
        }
      ]
    },
    {
      "metadata": {
        "id": "IUCFEFrIeIvb",
        "colab_type": "text"
      },
      "cell_type": "markdown",
      "source": [
        "### *Item Average*"
      ]
    },
    {
      "metadata": {
        "id": "DbSxcwx-WVVQ",
        "colab_type": "code",
        "colab": {}
      },
      "cell_type": "code",
      "source": [
        "# Declarar el objeto recomendador ItemAvg\n",
        "myitemavg = pyreclab.ItemAvg(dataset='u1.base',\n",
        "                             dlmchar=b'\\t',\n",
        "                             header=False,\n",
        "                             usercol=0,\n",
        "                             itemcol=1,\n",
        "                             ratingcol=2)\n"
      ],
      "execution_count": 0,
      "outputs": []
    },
    {
      "metadata": {
        "id": "JxaWtdjgWVhu",
        "colab_type": "code",
        "colab": {}
      },
      "cell_type": "code",
      "source": [
        "# Entrenamos el modelo con los datos existentes\n",
        "myitemavg.train()"
      ],
      "execution_count": 0,
      "outputs": []
    },
    {
      "metadata": {
        "id": "oCfdogS2yMYi",
        "colab_type": "code",
        "colab": {
          "base_uri": "https://localhost:8080/",
          "height": 252
        },
        "outputId": "766f33e8-7343-414a-f1e7-967bffaa6573"
      },
      "cell_type": "code",
      "source": [
        "reclist = myitemavg.recommend(\"457\")\n",
        "print(reclist)\n",
        "reclist = myitemavg.recommend(\"1\")\n",
        "print(reclist)\n",
        "\n",
        "pelis = np.array(reclist).astype(int)\n",
        "info_file.loc[pelis]['title']"
      ],
      "execution_count": 42,
      "outputs": [
        {
          "output_type": "stream",
          "text": [
            "['1500', '1653', '1599', '1189', '1467', '1293', '1201', '1122', '1449', '1367']\n",
            "['1500', '1653', '1599', '1189', '1467', '1293', '1201', '1122', '1449', '1367']\n"
          ],
          "name": "stdout"
        },
        {
          "output_type": "execute_result",
          "data": {
            "text/plain": [
              "movieid\n",
              "1500                            Santa with Muscles (1996)\n",
              "1653    Entertaining Angels: The Dorothy Day Story (1996)\n",
              "1599                        Someone Else's America (1995)\n",
              "1189                                   Prefontaine (1997)\n",
              "1467                 Saint of Fort Washington, The (1993)\n",
              "1293                                      Star Kid (1997)\n",
              "1201           Marlene Dietrich: Shadow and Light (1996) \n",
              "1122                       They Made Me a Criminal (1939)\n",
              "1449                               Pather Panchali (1955)\n",
              "1367                                         Faust (1994)\n",
              "Name: title, dtype: object"
            ]
          },
          "metadata": {
            "tags": []
          },
          "execution_count": 42
        }
      ]
    },
    {
      "metadata": {
        "id": "bJQWZofCeh4F",
        "colab_type": "text"
      },
      "cell_type": "markdown",
      "source": [
        "#### Preguntas"
      ]
    },
    {
      "metadata": {
        "id": "tMiP_Z2VYZB9",
        "colab_type": "text"
      },
      "cell_type": "markdown",
      "source": [
        "**¿Qué cree usted que hace la función `train()` del método de recomendación  `ItemAvg()`?**"
      ]
    },
    {
      "metadata": {
        "id": "HoRM5ILcYS8l",
        "colab_type": "text"
      },
      "cell_type": "markdown",
      "source": [
        "**Respuesta:** COMPLETAR"
      ]
    },
    {
      "metadata": {
        "id": "h9Z9cKZJTbVl",
        "colab_type": "code",
        "colab": {
          "base_uri": "https://localhost:8080/",
          "height": 34
        },
        "outputId": "c952613c-1fdc-4aac-e552-38c07fba2f85"
      },
      "cell_type": "code",
      "source": [
        "# Predecir rating que el usuario ID 457 le dará al ítem ID 37\n",
        "myitemavg.predict('457', '37')"
      ],
      "execution_count": 30,
      "outputs": [
        {
          "output_type": "execute_result",
          "data": {
            "text/plain": [
              "2.3333332538604736"
            ]
          },
          "metadata": {
            "tags": []
          },
          "execution_count": 30
        }
      ]
    },
    {
      "metadata": {
        "id": "FAmYXWtWXg3D",
        "colab_type": "text"
      },
      "cell_type": "markdown",
      "source": [
        "**Ejecute el mismo comando anterior para predecir esta vez el rating que el usuario 498 dará al item 37 ¿Qué rating da? ¿Cómo se explica este resultado?**"
      ]
    },
    {
      "metadata": {
        "id": "LZuWe5vlQNdR",
        "colab_type": "code",
        "colab": {
          "base_uri": "https://localhost:8080/",
          "height": 34
        },
        "outputId": "26d29ba6-9f93-450a-8206-4cae07428da1"
      },
      "cell_type": "code",
      "source": [
        "# COMPLETAR\n",
        "\n",
        "myitemavg.predict('498', '37')"
      ],
      "execution_count": 31,
      "outputs": [
        {
          "output_type": "execute_result",
          "data": {
            "text/plain": [
              "2.3333332538604736"
            ]
          },
          "metadata": {
            "tags": []
          },
          "execution_count": 31
        }
      ]
    },
    {
      "metadata": {
        "id": "wJvLQ2HoYrCX",
        "colab_type": "text"
      },
      "cell_type": "markdown",
      "source": [
        "**Respuesta:** COMPLETAR"
      ]
    },
    {
      "metadata": {
        "id": "Fr40bOYsXtnP",
        "colab_type": "code",
        "colab": {
          "base_uri": "https://localhost:8080/",
          "height": 34
        },
        "outputId": "e366b500-1bba-4a9e-ba8b-f7ff28a6d8e0"
      },
      "cell_type": "code",
      "source": [
        "# Generar lista de 5 recomendaciones para el usuario con ID 457\n",
        "\n",
        "reclist_iavg = myitemavg.recommend('457', 5)\n",
        "print(reclist_iavg)"
      ],
      "execution_count": 32,
      "outputs": [
        {
          "output_type": "stream",
          "text": [
            "['1500', '1653', '1599', '1189', '1467']\n"
          ],
          "name": "stdout"
        }
      ]
    },
    {
      "metadata": {
        "id": "_ZdUT93BMYgq",
        "colab_type": "text"
      },
      "cell_type": "markdown",
      "source": [
        "**Genere una lista de 10 recomendaciones para el usuario ID 478 ¿Cómo se explican las recomendaciones del método para este usuario comparadas con las del usuario 457?**"
      ]
    },
    {
      "metadata": {
        "id": "6_9NNOGoaAzi",
        "colab_type": "code",
        "colab": {
          "base_uri": "https://localhost:8080/",
          "height": 67
        },
        "outputId": "834c2425-26d3-4762-e64e-de645b0d10b2"
      },
      "cell_type": "code",
      "source": [
        "# COMPLETAR\n",
        "\n",
        "reclist_iavg = myitemavg.recommend('478', 10)\n",
        "print(reclist_iavg)\n",
        "\n",
        "print(myitemavg.predict('498', reclist_iavg[0]))\n",
        "print(myitemavg.predict('498', reclist_iavg[1]))"
      ],
      "execution_count": 39,
      "outputs": [
        {
          "output_type": "stream",
          "text": [
            "['1500', '1653', '1599', '1189', '1467', '1293', '1201', '1122', '1449', '1367']\n",
            "5.0\n",
            "5.0\n"
          ],
          "name": "stdout"
        }
      ]
    },
    {
      "metadata": {
        "id": "4ndrsHNOYujg",
        "colab_type": "text"
      },
      "cell_type": "markdown",
      "source": [
        "**Respuesta:** COMPLETAR"
      ]
    },
    {
      "metadata": {
        "id": "4WV4L4lmOW5-",
        "colab_type": "text"
      },
      "cell_type": "markdown",
      "source": [
        "**¿Cuáles son los títulos de las películas recomendadas por el método *ItemAvg* para el usuario 457 ? ¿Qué le parecen estas recomendaciones comparadas con el método *MostPopular*?**"
      ]
    },
    {
      "metadata": {
        "id": "S9TLKRK-O8FH",
        "colab_type": "code",
        "colab": {}
      },
      "cell_type": "code",
      "source": [
        "# COMPLETAR"
      ],
      "execution_count": 0,
      "outputs": []
    },
    {
      "metadata": {
        "id": "VwS5lyPnesYH",
        "colab_type": "text"
      },
      "cell_type": "markdown",
      "source": [
        "**Respuesta:** COMPLETAR"
      ]
    },
    {
      "metadata": {
        "id": "4swJapWnuCDN",
        "colab_type": "text"
      },
      "cell_type": "markdown",
      "source": [
        "### Wilson score"
      ]
    },
    {
      "metadata": {
        "id": "__CJGKbqHoQc",
        "colab_type": "text"
      },
      "cell_type": "markdown",
      "source": [
        "Otra forma de recomendar cuando se tienen votos positivos y negativos es usando el lower bound del wilson-score como se muestra en https://www.evanmiller.org/how-not-to-sort-by-average-rating.html\n",
        "\n",
        "Como el dataset de movielens contiene ratings, una forma de contabilizar estos como votos es asignando los ratings superiores a un valor definido como votos positivos y los demás como negativos."
      ]
    },
    {
      "metadata": {
        "id": "_XCaYeUhuFDl",
        "colab_type": "code",
        "colab": {}
      },
      "cell_type": "code",
      "source": [
        "from math import sqrt\n",
        "import scipy.stats as st\n",
        "\n",
        "def ci_lower_bound(pos, neg, confidence=.95):\n",
        "    n = pos + neg\n",
        "\n",
        "    if n == 0:\n",
        "        return 0\n",
        "\n",
        "    #z = 1.0 #1.44 = 85%, 1.96 = 95%\n",
        "    z = st.norm.ppf(1-(1-confidence)/2)\n",
        "    phat = float(pos) / n\n",
        "    \n",
        "    return (phat + z*z/(2*n) - z * sqrt((phat*(1-phat)+z*z/(4*n))/n))/(1+z*z/n)"
      ],
      "execution_count": 0,
      "outputs": []
    },
    {
      "metadata": {
        "id": "bKpqL-vdvZH2",
        "colab_type": "code",
        "colab": {}
      },
      "cell_type": "code",
      "source": [
        "item_count = {}\n",
        "for tup in train_file.groupby(['itemid', 'rating']).agg(['count']).itertuples():\n",
        "  if tup[0][0] not in item_count:\n",
        "    item_count[tup[0][0]] = {}\n",
        "    item_count[tup[0][0]]['pos'] = 0\n",
        "    item_count[tup[0][0]]['neg'] = 0\n",
        "\n",
        "  if tup[0][1] <= 3:\n",
        "    item_count[tup[0][0]]['neg'] += tup[1]\n",
        "  else:\n",
        "    item_count[tup[0][0]]['pos'] += tup[1]"
      ],
      "execution_count": 0,
      "outputs": []
    },
    {
      "metadata": {
        "id": "oAXoSjDXZJ5z",
        "colab_type": "text"
      },
      "cell_type": "markdown",
      "source": [
        "A partir de la funcion ci_lower_bound y el diccionario item_count genere una lista de recomendación usando el wilson score."
      ]
    },
    {
      "metadata": {
        "id": "FXKvDvGnZnfw",
        "colab_type": "code",
        "colab": {}
      },
      "cell_type": "code",
      "source": [
        ""
      ],
      "execution_count": 0,
      "outputs": []
    },
    {
      "metadata": {
        "id": "q1_O2SidXuDh",
        "colab_type": "text"
      },
      "cell_type": "markdown",
      "source": [
        "PREGUNTAS:\n",
        "1. Cómo considera este ranking respecto a Most Popular y a Rating Promedio? explique.\n",
        "\n",
        "2. Cuál sería el efecto en el ranking de cambiar el umbral de rating positivo de  $r \\geq 4$ a $r \\geq 3$\n",
        "\n",
        "3. Cuál es el efecto de cambiar el valor (1-$\\alpha$) de 0.95 a 0.99 en la lista rankeada ?"
      ]
    },
    {
      "metadata": {
        "id": "25-mzEfqe301",
        "colab_type": "text"
      },
      "cell_type": "markdown",
      "source": [
        "### *UserKNN*"
      ]
    },
    {
      "metadata": {
        "id": "ONuL2UkwaqPH",
        "colab_type": "code",
        "colab": {}
      },
      "cell_type": "code",
      "source": [
        "# Declarar el objeto recomendador UserKnn\n",
        "myUserKnn = pyreclab.UserKnn(dataset='u1.base',\n",
        "                             dlmchar=b'\\t',\n",
        "                             header=False,\n",
        "                             usercol=0,\n",
        "                             itemcol=1,\n",
        "                             ratingcol=2)\n"
      ],
      "execution_count": 0,
      "outputs": []
    },
    {
      "metadata": {
        "id": "uhjC9eRYaqPK",
        "colab_type": "code",
        "colab": {}
      },
      "cell_type": "code",
      "source": [
        "# Entrenamos el modelo con los datos existentes\n",
        "# Recuerde que se puede probar el parámetro k de cantidad de vecinos\n",
        "# así como la métrica de similaridad (pearson, cosine)\n",
        "myUserKnn.train(7, 'pearson')"
      ],
      "execution_count": 0,
      "outputs": []
    },
    {
      "metadata": {
        "id": "1yxaz2otfABG",
        "colab_type": "text"
      },
      "cell_type": "markdown",
      "source": [
        "#### Preguntas"
      ]
    },
    {
      "metadata": {
        "id": "dsByYnKBdWmP",
        "colab_type": "text"
      },
      "cell_type": "markdown",
      "source": [
        "**Según el modelo de recomendación UserKnn, qué rating le dará el usuario 457 al item 37 ?**"
      ]
    },
    {
      "metadata": {
        "id": "feSl8bmBaqPO",
        "colab_type": "code",
        "colab": {}
      },
      "cell_type": "code",
      "source": [
        "# COMPLETAR"
      ],
      "execution_count": 0,
      "outputs": []
    },
    {
      "metadata": {
        "id": "I-iqQvAdTTCP",
        "colab_type": "text"
      },
      "cell_type": "markdown",
      "source": [
        "**Respuesta:** COMPLETAR"
      ]
    },
    {
      "metadata": {
        "id": "U9apdVjVda1Q",
        "colab_type": "text"
      },
      "cell_type": "markdown",
      "source": [
        "**Escriba los nombres de las películas recomendadas por el método knn**"
      ]
    },
    {
      "metadata": {
        "id": "otr7zq1jaqPR",
        "colab_type": "code",
        "colab": {}
      },
      "cell_type": "code",
      "source": [
        "# COMPLETAR"
      ],
      "execution_count": 0,
      "outputs": []
    },
    {
      "metadata": {
        "id": "Bi7_nCE7TmOZ",
        "colab_type": "text"
      },
      "cell_type": "markdown",
      "source": [
        "**Respuesta:** COMPLETAR"
      ]
    },
    {
      "metadata": {
        "id": "Rz-__gkJfr-W",
        "colab_type": "text"
      },
      "cell_type": "markdown",
      "source": [
        "Analizar de tal forma de minimizar el número de vecinos viendo el error (RMSE)"
      ]
    },
    {
      "metadata": {
        "id": "2pJZT9TfaLxC",
        "colab_type": "text"
      },
      "cell_type": "markdown",
      "source": [
        "Un ejemplo de como obtener las listas de recomendación junto con sus métricas para el dataset de test:"
      ]
    },
    {
      "metadata": {
        "id": "jE2w47T5aI78",
        "colab_type": "code",
        "colab": {}
      },
      "cell_type": "code",
      "source": [
        "predlist, mae, rmse = myUserKnn.test(input_file='u1.test',\n",
        "                                     dlmchar=b'\\t',\n",
        "                                     header=False,\n",
        "                                     usercol=0,\n",
        "                                     itemcol=1,\n",
        "                                     ratingcol=2,\n",
        "                                     output_file='predictions.csv')"
      ],
      "execution_count": 0,
      "outputs": []
    },
    {
      "metadata": {
        "id": "RAopWlDdaaCx",
        "colab_type": "text"
      },
      "cell_type": "markdown",
      "source": [
        "A partir del ejemplo anterior probar para distintos valores de k y evaluar en base al error de prediccion (RMSE)"
      ]
    },
    {
      "metadata": {
        "id": "C-te1p0oaUU_",
        "colab_type": "code",
        "colab": {}
      },
      "cell_type": "code",
      "source": [
        "#COMPLETAR"
      ],
      "execution_count": 0,
      "outputs": []
    },
    {
      "metadata": {
        "id": "ZOmWY3eIiMFm",
        "colab_type": "text"
      },
      "cell_type": "markdown",
      "source": [
        "Graficar los resultados anteriores (MAE y RMSE), los que deberían verse algo así:\n",
        "\n",
        "![MAE](https://fotos.subefotos.com/819d05796c6e1da8ec11637788c677aco.png)\n",
        "\n",
        "![RMSE](https://fotos.subefotos.com/6148bcf1c0fdd7ffc0046b04f3f455b5o.png)\n",
        "\n",
        "1.   Elemento de lista\n",
        "2.   Elemento de lista\n",
        "\n"
      ]
    },
    {
      "metadata": {
        "id": "W9k1uKkzHoiI",
        "colab_type": "text"
      },
      "cell_type": "markdown",
      "source": [
        ""
      ]
    },
    {
      "metadata": {
        "id": "CsXhKArSfgvX",
        "colab_type": "text"
      },
      "cell_type": "markdown",
      "source": [
        "### *Slope One* (Opcional)"
      ]
    },
    {
      "metadata": {
        "id": "qKspTai4NCNb",
        "colab_type": "text"
      },
      "cell_type": "markdown",
      "source": [
        "**Replicar todo el análisis de UserKNN con el método SlopeOne\n",
        "**"
      ]
    },
    {
      "metadata": {
        "id": "yvd56CYbfd8P",
        "colab_type": "text"
      },
      "cell_type": "markdown",
      "source": [
        "### *ItemKNN* (Opcional)"
      ]
    },
    {
      "metadata": {
        "id": "BIoEuAPGM922",
        "colab_type": "text"
      },
      "cell_type": "markdown",
      "source": [
        "**Replicar todo el análisis de UserKNN con el método ItemKNN**"
      ]
    }
  ]
}