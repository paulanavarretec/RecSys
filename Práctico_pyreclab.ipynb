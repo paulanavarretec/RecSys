{
  "nbformat": 4,
  "nbformat_minor": 0,
  "metadata": {
    "colab": {
      "name": "Práctico pyreclab.ipynb",
      "version": "0.3.2",
      "provenance": [],
      "collapsed_sections": [],
      "toc_visible": true,
      "include_colab_link": true
    },
    "kernelspec": {
      "display_name": "Python [default]",
      "language": "python",
      "name": "python3"
    },
    "accelerator": "GPU"
  },
  "cells": [
    {
      "cell_type": "markdown",
      "metadata": {
        "id": "view-in-github",
        "colab_type": "text"
      },
      "source": [
        "[View in Colaboratory](https://colab.research.google.com/github/paulanavarretec/RecSys/blob/master/Pr%C3%A1ctico_pyreclab.ipynb)"
      ]
    },
    {
      "metadata": {
        "id": "NC-ceGb8LRLT",
        "colab_type": "text"
      },
      "cell_type": "markdown",
      "source": [
        "# Ayudantía 1 - Sistemas Recomendadores: Pyreclab"
      ]
    },
    {
      "metadata": {
        "id": "mACJbcW8T35p",
        "colab_type": "text"
      },
      "cell_type": "markdown",
      "source": [
        "En este práctico vamos a utilizar la biblioteca de Python [pyreclab](https://github.com/gasevi/pyreclab), desarrollado por los Laboratorios IALab y SocVis de la Pontificia Universidad Católica de Chile, para aprender sobre algoritmos básicos y tradicionales de sistemas de recomendacion:\n",
        "\n",
        "\n",
        "*   Most Popular\n",
        "*   Item Average Rating\n",
        "*   User KNN (Filtrado colaborativo basado en usuarios)\n",
        "\n",
        "\n",
        "**Autores**: Denis Parra, Gabriel Sepúlveda\n",
        "\n",
        "**Adaptado para Sistemas Recomendadores (IIC3633) por**: Manuel Cartagena, Antonio Ossa\n"
      ]
    },
    {
      "metadata": {
        "id": "9qKTQ2V5VKSX",
        "colab_type": "text"
      },
      "cell_type": "markdown",
      "source": [
        "## Setup\n",
        "\n",
        "Vaya ejecutando cada celda presionando el botón de Play o presionando Ctrl+Enter (Linux y Windows) o Command+Enter (OSX)"
      ]
    },
    {
      "metadata": {
        "id": "LJuUuUB-LahX",
        "colab_type": "text"
      },
      "cell_type": "markdown",
      "source": [
        "**Paso 1:** Descargue los siguientes tres archivos, siguiendo los links, a su computador local (`u1.base`, `u1.test` y `u.item`, respectivamente)\n",
        "\n",
        "https://drive.google.com/file/d/1Anro2DyEgN0sUHXFyxVe2qoSya6hzQSp/view?usp=sharing\n",
        "\n",
        "https://drive.google.com/file/d/1Awy3QKCdkSpNeRXATqRBUMi56M47Ia0n/view?usp=sharing\n",
        "\n",
        "https://drive.google.com/file/d/1B7QhEodQ13QlOHOTp9zaa52exlfgAOl3/view?usp=sharing\n"
      ]
    },
    {
      "metadata": {
        "id": "SEF-5tx457eB",
        "colab_type": "code",
        "colab": {
          "resources": {
            "http://localhost:8080/nbextensions/google.colab/files.js": {
              "data": "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",
              "ok": true,
              "headers": [
                [
                  "content-type",
                  "application/javascript"
                ]
              ],
              "status": 200,
              "status_text": ""
            }
          },
          "base_uri": "https://localhost:8080/",
          "height": 140
        },
        "cellView": "both",
        "outputId": "00a2cd2a-e767-46c9-f028-1d9d9094904c"
      },
      "cell_type": "code",
      "source": [
        "# Ejecute esta celda. Deberá subir los archivos u1.base, u1.test y u.item\n",
        "from google.colab import files\n",
        "uploaded = files.upload()"
      ],
      "execution_count": 2,
      "outputs": [
        {
          "output_type": "display_data",
          "data": {
            "text/html": [
              "\n",
              "     <input type=\"file\" id=\"files-00677651-9e99-4d24-99ae-cc27559b9bca\" name=\"files[]\" multiple disabled />\n",
              "     <output id=\"result-00677651-9e99-4d24-99ae-cc27559b9bca\">\n",
              "      Upload widget is only available when the cell has been executed in the\n",
              "      current browser session. Please rerun this cell to enable.\n",
              "      </output>\n",
              "      <script src=\"/nbextensions/google.colab/files.js\"></script> "
            ],
            "text/plain": [
              "<IPython.core.display.HTML object>"
            ]
          },
          "metadata": {
            "tags": []
          }
        },
        {
          "output_type": "stream",
          "text": [
            "Saving u.item to u.item\n",
            "Saving u1.base to u1.base\n",
            "Saving u1.test to u1.test\n"
          ],
          "name": "stdout"
        }
      ]
    },
    {
      "metadata": {
        "id": "liJ3L2kl4g1o",
        "colab_type": "text"
      },
      "cell_type": "markdown",
      "source": [
        "Los archivos u1.base y u1.test tienen tuplas {usuario, item, rating, timestamp}, que es la información de preferencias de usuarios sobre películas en una muestra del dataset [MovieLens](https://grouplens.org/datasets/movielens/).\n",
        "\n",
        "Revisemos cómo es uno de estos archivos:"
      ]
    },
    {
      "metadata": {
        "id": "10N9GHcw5AeV",
        "colab_type": "code",
        "colab": {
          "base_uri": "https://localhost:8080/",
          "height": 296
        },
        "outputId": "af5c539e-b44b-441e-d409-406327cae377"
      },
      "cell_type": "code",
      "source": [
        "import pandas as pd\n",
        "\n",
        "train_file = pd.read_csv('u1.base',\n",
        "                         sep='\\t',\n",
        "                         names = ['userid', 'itemid', 'rating', 'timestamp'],\n",
        "                         header=None)\n",
        "print(train_file.head())\n",
        "train_file.tail()"
      ],
      "execution_count": 3,
      "outputs": [
        {
          "output_type": "stream",
          "text": [
            "   userid  itemid  rating  timestamp\n",
            "0       1       1       5  874965758\n",
            "1       1       2       3  876893171\n",
            "2       1       3       4  878542960\n",
            "3       1       4       3  876893119\n",
            "4       1       5       3  889751712\n"
          ],
          "name": "stdout"
        },
        {
          "output_type": "execute_result",
          "data": {
            "text/html": [
              "<div>\n",
              "<style scoped>\n",
              "    .dataframe tbody tr th:only-of-type {\n",
              "        vertical-align: middle;\n",
              "    }\n",
              "\n",
              "    .dataframe tbody tr th {\n",
              "        vertical-align: top;\n",
              "    }\n",
              "\n",
              "    .dataframe thead th {\n",
              "        text-align: right;\n",
              "    }\n",
              "</style>\n",
              "<table border=\"1\" class=\"dataframe\">\n",
              "  <thead>\n",
              "    <tr style=\"text-align: right;\">\n",
              "      <th></th>\n",
              "      <th>userid</th>\n",
              "      <th>itemid</th>\n",
              "      <th>rating</th>\n",
              "      <th>timestamp</th>\n",
              "    </tr>\n",
              "  </thead>\n",
              "  <tbody>\n",
              "    <tr>\n",
              "      <th>79995</th>\n",
              "      <td>943</td>\n",
              "      <td>1067</td>\n",
              "      <td>2</td>\n",
              "      <td>875501756</td>\n",
              "    </tr>\n",
              "    <tr>\n",
              "      <th>79996</th>\n",
              "      <td>943</td>\n",
              "      <td>1074</td>\n",
              "      <td>4</td>\n",
              "      <td>888640250</td>\n",
              "    </tr>\n",
              "    <tr>\n",
              "      <th>79997</th>\n",
              "      <td>943</td>\n",
              "      <td>1188</td>\n",
              "      <td>3</td>\n",
              "      <td>888640250</td>\n",
              "    </tr>\n",
              "    <tr>\n",
              "      <th>79998</th>\n",
              "      <td>943</td>\n",
              "      <td>1228</td>\n",
              "      <td>3</td>\n",
              "      <td>888640275</td>\n",
              "    </tr>\n",
              "    <tr>\n",
              "      <th>79999</th>\n",
              "      <td>943</td>\n",
              "      <td>1330</td>\n",
              "      <td>3</td>\n",
              "      <td>888692465</td>\n",
              "    </tr>\n",
              "  </tbody>\n",
              "</table>\n",
              "</div>"
            ],
            "text/plain": [
              "       userid  itemid  rating  timestamp\n",
              "79995     943    1067       2  875501756\n",
              "79996     943    1074       4  888640250\n",
              "79997     943    1188       3  888640250\n",
              "79998     943    1228       3  888640275\n",
              "79999     943    1330       3  888692465"
            ]
          },
          "metadata": {
            "tags": []
          },
          "execution_count": 3
        }
      ]
    },
    {
      "metadata": {
        "id": "BKOrcfaiEdqM",
        "colab_type": "text"
      },
      "cell_type": "markdown",
      "source": [
        "Por otra parte, para obtener información adicional de cada película tal como *título*, *fecha de lanzamient*o, *género*, etc., cargaremos el archivo de items descargado ( *u.item* ) para poder mapear cada identificador de ítem al conjunto de datos que lo describe.\n",
        "Revisemos el contenido de este archivo"
      ]
    },
    {
      "metadata": {
        "id": "bVtvxJnr_yeK",
        "colab_type": "code",
        "colab": {
          "base_uri": "https://localhost:8080/",
          "height": 408
        },
        "outputId": "282ce29c-b78b-40b9-c988-1fff4c2cc7aa"
      },
      "cell_type": "code",
      "source": [
        "info_cols = [ 'movieid', 'title', 'release_date', 'video_release_date', 'IMDb_URL', \\\n",
        "              'unknown', 'Action', 'Adventure', 'Animation', 'Children', 'Comedy', \\\n",
        "              'Crime', 'Documentary', 'Drama', 'Fantasy', 'Film-Noir', 'Horror', \\\n",
        "              'Musical', 'Mystery', 'Romance', 'Sci-Fi', 'Thriller', 'War', 'Western' ]\n",
        "\n",
        "info_file = pd.read_csv('u.item', sep='|', index_col = 0, names = info_cols, header=None, encoding='latin-1')\n",
        "\n",
        "(info_file.head())"
      ],
      "execution_count": 4,
      "outputs": [
        {
          "output_type": "execute_result",
          "data": {
            "text/html": [
              "<div>\n",
              "<style scoped>\n",
              "    .dataframe tbody tr th:only-of-type {\n",
              "        vertical-align: middle;\n",
              "    }\n",
              "\n",
              "    .dataframe tbody tr th {\n",
              "        vertical-align: top;\n",
              "    }\n",
              "\n",
              "    .dataframe thead th {\n",
              "        text-align: right;\n",
              "    }\n",
              "</style>\n",
              "<table border=\"1\" class=\"dataframe\">\n",
              "  <thead>\n",
              "    <tr style=\"text-align: right;\">\n",
              "      <th></th>\n",
              "      <th>title</th>\n",
              "      <th>release_date</th>\n",
              "      <th>video_release_date</th>\n",
              "      <th>IMDb_URL</th>\n",
              "      <th>unknown</th>\n",
              "      <th>Action</th>\n",
              "      <th>Adventure</th>\n",
              "      <th>Animation</th>\n",
              "      <th>Children</th>\n",
              "      <th>Comedy</th>\n",
              "      <th>...</th>\n",
              "      <th>Fantasy</th>\n",
              "      <th>Film-Noir</th>\n",
              "      <th>Horror</th>\n",
              "      <th>Musical</th>\n",
              "      <th>Mystery</th>\n",
              "      <th>Romance</th>\n",
              "      <th>Sci-Fi</th>\n",
              "      <th>Thriller</th>\n",
              "      <th>War</th>\n",
              "      <th>Western</th>\n",
              "    </tr>\n",
              "    <tr>\n",
              "      <th>movieid</th>\n",
              "      <th></th>\n",
              "      <th></th>\n",
              "      <th></th>\n",
              "      <th></th>\n",
              "      <th></th>\n",
              "      <th></th>\n",
              "      <th></th>\n",
              "      <th></th>\n",
              "      <th></th>\n",
              "      <th></th>\n",
              "      <th></th>\n",
              "      <th></th>\n",
              "      <th></th>\n",
              "      <th></th>\n",
              "      <th></th>\n",
              "      <th></th>\n",
              "      <th></th>\n",
              "      <th></th>\n",
              "      <th></th>\n",
              "      <th></th>\n",
              "      <th></th>\n",
              "    </tr>\n",
              "  </thead>\n",
              "  <tbody>\n",
              "    <tr>\n",
              "      <th>1</th>\n",
              "      <td>Toy Story (1995)</td>\n",
              "      <td>01-Jan-1995</td>\n",
              "      <td>NaN</td>\n",
              "      <td>http://us.imdb.com/M/title-exact?Toy%20Story%2...</td>\n",
              "      <td>0</td>\n",
              "      <td>0</td>\n",
              "      <td>0</td>\n",
              "      <td>1</td>\n",
              "      <td>1</td>\n",
              "      <td>1</td>\n",
              "      <td>...</td>\n",
              "      <td>0</td>\n",
              "      <td>0</td>\n",
              "      <td>0</td>\n",
              "      <td>0</td>\n",
              "      <td>0</td>\n",
              "      <td>0</td>\n",
              "      <td>0</td>\n",
              "      <td>0</td>\n",
              "      <td>0</td>\n",
              "      <td>0</td>\n",
              "    </tr>\n",
              "    <tr>\n",
              "      <th>2</th>\n",
              "      <td>GoldenEye (1995)</td>\n",
              "      <td>01-Jan-1995</td>\n",
              "      <td>NaN</td>\n",
              "      <td>http://us.imdb.com/M/title-exact?GoldenEye%20(...</td>\n",
              "      <td>0</td>\n",
              "      <td>1</td>\n",
              "      <td>1</td>\n",
              "      <td>0</td>\n",
              "      <td>0</td>\n",
              "      <td>0</td>\n",
              "      <td>...</td>\n",
              "      <td>0</td>\n",
              "      <td>0</td>\n",
              "      <td>0</td>\n",
              "      <td>0</td>\n",
              "      <td>0</td>\n",
              "      <td>0</td>\n",
              "      <td>0</td>\n",
              "      <td>1</td>\n",
              "      <td>0</td>\n",
              "      <td>0</td>\n",
              "    </tr>\n",
              "    <tr>\n",
              "      <th>3</th>\n",
              "      <td>Four Rooms (1995)</td>\n",
              "      <td>01-Jan-1995</td>\n",
              "      <td>NaN</td>\n",
              "      <td>http://us.imdb.com/M/title-exact?Four%20Rooms%...</td>\n",
              "      <td>0</td>\n",
              "      <td>0</td>\n",
              "      <td>0</td>\n",
              "      <td>0</td>\n",
              "      <td>0</td>\n",
              "      <td>0</td>\n",
              "      <td>...</td>\n",
              "      <td>0</td>\n",
              "      <td>0</td>\n",
              "      <td>0</td>\n",
              "      <td>0</td>\n",
              "      <td>0</td>\n",
              "      <td>0</td>\n",
              "      <td>0</td>\n",
              "      <td>1</td>\n",
              "      <td>0</td>\n",
              "      <td>0</td>\n",
              "    </tr>\n",
              "    <tr>\n",
              "      <th>4</th>\n",
              "      <td>Get Shorty (1995)</td>\n",
              "      <td>01-Jan-1995</td>\n",
              "      <td>NaN</td>\n",
              "      <td>http://us.imdb.com/M/title-exact?Get%20Shorty%...</td>\n",
              "      <td>0</td>\n",
              "      <td>1</td>\n",
              "      <td>0</td>\n",
              "      <td>0</td>\n",
              "      <td>0</td>\n",
              "      <td>1</td>\n",
              "      <td>...</td>\n",
              "      <td>0</td>\n",
              "      <td>0</td>\n",
              "      <td>0</td>\n",
              "      <td>0</td>\n",
              "      <td>0</td>\n",
              "      <td>0</td>\n",
              "      <td>0</td>\n",
              "      <td>0</td>\n",
              "      <td>0</td>\n",
              "      <td>0</td>\n",
              "    </tr>\n",
              "    <tr>\n",
              "      <th>5</th>\n",
              "      <td>Copycat (1995)</td>\n",
              "      <td>01-Jan-1995</td>\n",
              "      <td>NaN</td>\n",
              "      <td>http://us.imdb.com/M/title-exact?Copycat%20(1995)</td>\n",
              "      <td>0</td>\n",
              "      <td>0</td>\n",
              "      <td>0</td>\n",
              "      <td>0</td>\n",
              "      <td>0</td>\n",
              "      <td>0</td>\n",
              "      <td>...</td>\n",
              "      <td>0</td>\n",
              "      <td>0</td>\n",
              "      <td>0</td>\n",
              "      <td>0</td>\n",
              "      <td>0</td>\n",
              "      <td>0</td>\n",
              "      <td>0</td>\n",
              "      <td>1</td>\n",
              "      <td>0</td>\n",
              "      <td>0</td>\n",
              "    </tr>\n",
              "  </tbody>\n",
              "</table>\n",
              "<p>5 rows × 23 columns</p>\n",
              "</div>"
            ],
            "text/plain": [
              "                     title release_date  video_release_date  \\\n",
              "movieid                                                       \n",
              "1         Toy Story (1995)  01-Jan-1995                 NaN   \n",
              "2         GoldenEye (1995)  01-Jan-1995                 NaN   \n",
              "3        Four Rooms (1995)  01-Jan-1995                 NaN   \n",
              "4        Get Shorty (1995)  01-Jan-1995                 NaN   \n",
              "5           Copycat (1995)  01-Jan-1995                 NaN   \n",
              "\n",
              "                                                  IMDb_URL  unknown  Action  \\\n",
              "movieid                                                                       \n",
              "1        http://us.imdb.com/M/title-exact?Toy%20Story%2...        0       0   \n",
              "2        http://us.imdb.com/M/title-exact?GoldenEye%20(...        0       1   \n",
              "3        http://us.imdb.com/M/title-exact?Four%20Rooms%...        0       0   \n",
              "4        http://us.imdb.com/M/title-exact?Get%20Shorty%...        0       1   \n",
              "5        http://us.imdb.com/M/title-exact?Copycat%20(1995)        0       0   \n",
              "\n",
              "         Adventure  Animation  Children  Comedy   ...     Fantasy  Film-Noir  \\\n",
              "movieid                                           ...                          \n",
              "1                0          1         1       1   ...           0          0   \n",
              "2                1          0         0       0   ...           0          0   \n",
              "3                0          0         0       0   ...           0          0   \n",
              "4                0          0         0       1   ...           0          0   \n",
              "5                0          0         0       0   ...           0          0   \n",
              "\n",
              "         Horror  Musical  Mystery  Romance  Sci-Fi  Thriller  War  Western  \n",
              "movieid                                                                     \n",
              "1             0        0        0        0       0         0    0        0  \n",
              "2             0        0        0        0       0         1    0        0  \n",
              "3             0        0        0        0       0         1    0        0  \n",
              "4             0        0        0        0       0         0    0        0  \n",
              "5             0        0        0        0       0         1    0        0  \n",
              "\n",
              "[5 rows x 23 columns]"
            ]
          },
          "metadata": {
            "tags": []
          },
          "execution_count": 4
        }
      ]
    },
    {
      "metadata": {
        "id": "3JsjHzBFGqQI",
        "colab_type": "code",
        "colab": {
          "base_uri": "https://localhost:8080/",
          "height": 225
        },
        "outputId": "18ede972-5286-46e4-cea5-14a4dd70e06d"
      },
      "cell_type": "code",
      "source": [
        "# Ejemplo de cómo visualizar titulos de peliculas en base a sus IDs (le agregué que aparte me muestre otras características)\n",
        "pelis = [5,4,1,2,3]\n",
        "info_file.loc[pelis][['title', 'release_date','Adventure']]"
      ],
      "execution_count": 5,
      "outputs": [
        {
          "output_type": "execute_result",
          "data": {
            "text/html": [
              "<div>\n",
              "<style scoped>\n",
              "    .dataframe tbody tr th:only-of-type {\n",
              "        vertical-align: middle;\n",
              "    }\n",
              "\n",
              "    .dataframe tbody tr th {\n",
              "        vertical-align: top;\n",
              "    }\n",
              "\n",
              "    .dataframe thead th {\n",
              "        text-align: right;\n",
              "    }\n",
              "</style>\n",
              "<table border=\"1\" class=\"dataframe\">\n",
              "  <thead>\n",
              "    <tr style=\"text-align: right;\">\n",
              "      <th></th>\n",
              "      <th>title</th>\n",
              "      <th>release_date</th>\n",
              "      <th>Adventure</th>\n",
              "    </tr>\n",
              "    <tr>\n",
              "      <th>movieid</th>\n",
              "      <th></th>\n",
              "      <th></th>\n",
              "      <th></th>\n",
              "    </tr>\n",
              "  </thead>\n",
              "  <tbody>\n",
              "    <tr>\n",
              "      <th>5</th>\n",
              "      <td>Copycat (1995)</td>\n",
              "      <td>01-Jan-1995</td>\n",
              "      <td>0</td>\n",
              "    </tr>\n",
              "    <tr>\n",
              "      <th>4</th>\n",
              "      <td>Get Shorty (1995)</td>\n",
              "      <td>01-Jan-1995</td>\n",
              "      <td>0</td>\n",
              "    </tr>\n",
              "    <tr>\n",
              "      <th>1</th>\n",
              "      <td>Toy Story (1995)</td>\n",
              "      <td>01-Jan-1995</td>\n",
              "      <td>0</td>\n",
              "    </tr>\n",
              "    <tr>\n",
              "      <th>2</th>\n",
              "      <td>GoldenEye (1995)</td>\n",
              "      <td>01-Jan-1995</td>\n",
              "      <td>1</td>\n",
              "    </tr>\n",
              "    <tr>\n",
              "      <th>3</th>\n",
              "      <td>Four Rooms (1995)</td>\n",
              "      <td>01-Jan-1995</td>\n",
              "      <td>0</td>\n",
              "    </tr>\n",
              "  </tbody>\n",
              "</table>\n",
              "</div>"
            ],
            "text/plain": [
              "                     title release_date  Adventure\n",
              "movieid                                           \n",
              "5           Copycat (1995)  01-Jan-1995          0\n",
              "4        Get Shorty (1995)  01-Jan-1995          0\n",
              "1         Toy Story (1995)  01-Jan-1995          0\n",
              "2         GoldenEye (1995)  01-Jan-1995          1\n",
              "3        Four Rooms (1995)  01-Jan-1995          0"
            ]
          },
          "metadata": {
            "tags": []
          },
          "execution_count": 5
        }
      ]
    },
    {
      "metadata": {
        "id": "vypumB0LLl6B",
        "colab_type": "text"
      },
      "cell_type": "markdown",
      "source": [
        "**Paso 2:** Instalar `pyreclab`\n",
        "\n"
      ]
    },
    {
      "metadata": {
        "id": "nbtrMHvG6uIt",
        "colab_type": "code",
        "colab": {
          "base_uri": "https://localhost:8080/",
          "height": 121
        },
        "outputId": "314bc229-4b83-40f7-b073-599b1a7a37fe"
      },
      "cell_type": "code",
      "source": [
        "!pip install pyreclab"
      ],
      "execution_count": 6,
      "outputs": [
        {
          "output_type": "stream",
          "text": [
            "Collecting pyreclab\n",
            "\u001b[?25l  Downloading https://files.pythonhosted.org/packages/7a/2d/9a92720ebf71d0a497a0c488c39dc1f9a3814000fc834b34655c57eaaab1/pyreclab-0.1.11-cp36-cp36m-manylinux1_x86_64.whl (143kB)\n",
            "\u001b[K    100% |████████████████████████████████| 143kB 13.1MB/s \n",
            "\u001b[?25hInstalling collected packages: pyreclab\n",
            "Successfully installed pyreclab-0.1.11\n"
          ],
          "name": "stdout"
        }
      ]
    },
    {
      "metadata": {
        "id": "8xjAMaNz-4dO",
        "colab_type": "text"
      },
      "cell_type": "markdown",
      "source": [
        "**Paso 3:** Importar `pyreclab` y `numpy`"
      ]
    },
    {
      "metadata": {
        "id": "nv7g1e_i6wBY",
        "colab_type": "code",
        "colab": {}
      },
      "cell_type": "code",
      "source": [
        "import pyreclab\n",
        "import numpy as np"
      ],
      "execution_count": 0,
      "outputs": []
    },
    {
      "metadata": {
        "id": "P7nyS9R9d9Kh",
        "colab_type": "text"
      },
      "cell_type": "markdown",
      "source": [
        "## Uso de algoritmos"
      ]
    },
    {
      "metadata": {
        "id": "GE4tE6_aeEiw",
        "colab_type": "text"
      },
      "cell_type": "markdown",
      "source": [
        "### *Most Popular*"
      ]
    },
    {
      "metadata": {
        "id": "ayKBs3MSS1JZ",
        "colab_type": "code",
        "colab": {}
      },
      "cell_type": "code",
      "source": [
        "# Declarar el objeto recomendador de la clase MostPopular\n",
        "mymp = pyreclab.MostPopular(dataset='u1.base',\n",
        "                            dlmchar= b'\\t',\n",
        "                            header=False,\n",
        "                            usercol=0,\n",
        "                            itemcol=1,\n",
        "                            ratingcol=2)\n"
      ],
      "execution_count": 0,
      "outputs": []
    },
    {
      "metadata": {
        "id": "yt-4Z9XlTH8s",
        "colab_type": "code",
        "colab": {}
      },
      "cell_type": "code",
      "source": [
        "# Entrenamos el modelo con los datos existentes\n",
        "mymp.train()"
      ],
      "execution_count": 0,
      "outputs": []
    },
    {
      "metadata": {
        "id": "Irtfxu6QaGb_",
        "colab_type": "text"
      },
      "cell_type": "markdown",
      "source": [
        "El método ***Most Popular*** calcula el número de veces que fue consumido cada ítem, así puede recomendar los más populares. Con este método no podemos predecir *ratings*, pero sí podemos recomendar. La recomendación no es personalizada, es la misma para todos los usuarios."
      ]
    },
    {
      "metadata": {
        "id": "hm1kj3CiTVq5",
        "colab_type": "code",
        "colab": {
          "base_uri": "https://localhost:8080/",
          "height": 504
        },
        "outputId": "3515fed0-87f1-4221-d7ed-58c45d23db6d"
      },
      "cell_type": "code",
      "source": [
        "print(\"Recomendaciones para el usuario 457\")\n",
        "reclist = mymp.recommend(\"457\") #457\n",
        "print(reclist)\n",
        "pelis = np.array(reclist).astype(int)\n",
        "print(info_file.loc[pelis]['title'])\n",
        "\n",
        "print(\"\\nRecomendaciones para el usuario 1\")\n",
        "reclist = mymp.recommend(\"1\")\n",
        "print(reclist)\n",
        "pelis = np.array(reclist).astype(int)\n",
        "print(info_file.loc[pelis]['title'])\n"
      ],
      "execution_count": 10,
      "outputs": [
        {
          "output_type": "stream",
          "text": [
            "Recomendaciones para el usuario 457\n",
            "['181', '258', '294', '127', '56', '237', '7', '172', '405', '313']\n",
            "movieid\n",
            "181          Return of the Jedi (1983)\n",
            "258                     Contact (1997)\n",
            "294                   Liar Liar (1997)\n",
            "127              Godfather, The (1972)\n",
            "56                 Pulp Fiction (1994)\n",
            "237               Jerry Maguire (1996)\n",
            "7                Twelve Monkeys (1995)\n",
            "172    Empire Strikes Back, The (1980)\n",
            "405         Mission: Impossible (1996)\n",
            "313                     Titanic (1997)\n",
            "Name: title, dtype: object\n",
            "\n",
            "Recomendaciones para el usuario 1\n",
            "['124', '419', '203', '732', '367', '751', '566', '319', '147', '514']\n",
            "movieid\n",
            "124                   Lone Star (1996)\n",
            "419                Mary Poppins (1964)\n",
            "203                  Unforgiven (1992)\n",
            "732                        Dave (1993)\n",
            "367                    Clueless (1995)\n",
            "751         Tomorrow Never Dies (1997)\n",
            "566    Clear and Present Danger (1994)\n",
            "319    Everyone Says I Love You (1996)\n",
            "147    Long Kiss Goodnight, The (1996)\n",
            "514                  Annie Hall (1977)\n",
            "Name: title, dtype: object\n"
          ],
          "name": "stdout"
        }
      ]
    },
    {
      "metadata": {
        "id": "g06HSOn6KVoj",
        "colab_type": "code",
        "colab": {
          "base_uri": "https://localhost:8080/",
          "height": 218
        },
        "outputId": "ece464f7-88b2-468c-8b7b-ce4ba9548928"
      },
      "cell_type": "code",
      "source": [
        "# Con esto podemos ver las recomendaciones con titulo de película\n",
        "pelis = np.array(reclist).astype(int)\n",
        "info_file.loc[pelis]['title']"
      ],
      "execution_count": 11,
      "outputs": [
        {
          "output_type": "execute_result",
          "data": {
            "text/plain": [
              "movieid\n",
              "124                   Lone Star (1996)\n",
              "419                Mary Poppins (1964)\n",
              "203                  Unforgiven (1992)\n",
              "732                        Dave (1993)\n",
              "367                    Clueless (1995)\n",
              "751         Tomorrow Never Dies (1997)\n",
              "566    Clear and Present Danger (1994)\n",
              "319    Everyone Says I Love You (1996)\n",
              "147    Long Kiss Goodnight, The (1996)\n",
              "514                  Annie Hall (1977)\n",
              "Name: title, dtype: object"
            ]
          },
          "metadata": {
            "tags": []
          },
          "execution_count": 11
        }
      ]
    },
    {
      "metadata": {
        "id": "IUCFEFrIeIvb",
        "colab_type": "text"
      },
      "cell_type": "markdown",
      "source": [
        "### *Item Average*"
      ]
    },
    {
      "metadata": {
        "id": "DbSxcwx-WVVQ",
        "colab_type": "code",
        "colab": {}
      },
      "cell_type": "code",
      "source": [
        "# Declarar el objeto recomendador ItemAvg\n",
        "myitemavg = pyreclab.ItemAvg(dataset='u1.base',\n",
        "                             dlmchar=b'\\t',\n",
        "                             header=False,\n",
        "                             usercol=0,\n",
        "                             itemcol=1,\n",
        "                             ratingcol=2)\n"
      ],
      "execution_count": 0,
      "outputs": []
    },
    {
      "metadata": {
        "id": "JxaWtdjgWVhu",
        "colab_type": "code",
        "colab": {}
      },
      "cell_type": "code",
      "source": [
        "# Entrenamos el modelo con los datos existentes\n",
        "myitemavg.train()"
      ],
      "execution_count": 0,
      "outputs": []
    },
    {
      "metadata": {
        "id": "oCfdogS2yMYi",
        "colab_type": "code",
        "colab": {
          "base_uri": "https://localhost:8080/",
          "height": 252
        },
        "outputId": "cca942b1-2146-474c-9a2c-7e2d7d7b0638"
      },
      "cell_type": "code",
      "source": [
        "reclist = myitemavg.recommend(\"457\")\n",
        "print(reclist)\n",
        "reclist = myitemavg.recommend(\"1\")\n",
        "print(reclist)\n",
        "\n",
        "pelis = np.array(reclist).astype(int)\n",
        "info_file.loc[pelis]['title']"
      ],
      "execution_count": 14,
      "outputs": [
        {
          "output_type": "stream",
          "text": [
            "['1500', '1653', '1599', '1189', '1467', '1293', '1201', '1122', '1449', '1367']\n",
            "['1500', '1653', '1599', '1189', '1467', '1293', '1201', '1122', '1449', '1367']\n"
          ],
          "name": "stdout"
        },
        {
          "output_type": "execute_result",
          "data": {
            "text/plain": [
              "movieid\n",
              "1500                            Santa with Muscles (1996)\n",
              "1653    Entertaining Angels: The Dorothy Day Story (1996)\n",
              "1599                        Someone Else's America (1995)\n",
              "1189                                   Prefontaine (1997)\n",
              "1467                 Saint of Fort Washington, The (1993)\n",
              "1293                                      Star Kid (1997)\n",
              "1201           Marlene Dietrich: Shadow and Light (1996) \n",
              "1122                       They Made Me a Criminal (1939)\n",
              "1449                               Pather Panchali (1955)\n",
              "1367                                         Faust (1994)\n",
              "Name: title, dtype: object"
            ]
          },
          "metadata": {
            "tags": []
          },
          "execution_count": 14
        }
      ]
    },
    {
      "metadata": {
        "id": "bJQWZofCeh4F",
        "colab_type": "text"
      },
      "cell_type": "markdown",
      "source": [
        "#### Preguntas"
      ]
    },
    {
      "metadata": {
        "id": "tMiP_Z2VYZB9",
        "colab_type": "text"
      },
      "cell_type": "markdown",
      "source": [
        "**¿Qué cree usted que hace la función `train()` del método de recomendación  `ItemAvg()`?**"
      ]
    },
    {
      "metadata": {
        "id": "HoRM5ILcYS8l",
        "colab_type": "text"
      },
      "cell_type": "markdown",
      "source": [
        "**Respuesta:** Lo que hace es aprender el rating promedio para cada película. A continuación el código que la implementa :\n",
        "\n",
        "\n",
        "\n",
        "```\n",
        "int AlgItemAvg::train()\n",
        "{\n",
        "   for( size_t col = 0 ; col < m_ratingMatrix.items() ; ++col )\n",
        "   {\n",
        "      double sumbycol = 0;\n",
        "      int countbycol = m_ratingMatrix.sumColumn( col, sumbycol );\n",
        "      if( 0 < countbycol )\n",
        "      {\n",
        "         m_meanRatingByItemCol[col] = sumbycol/countbycol;\n",
        "      }\n",
        "\n",
        "      if( !m_running )\n",
        "      {\n",
        "         return STOPPED;\n",
        "      }\n",
        "   }\n",
        "\n",
        "   return FINISHED;\n",
        "} \n",
        "\n",
        "```\n",
        "[Fuente](https://github.com/gasevi/pyreclab/blob/master/algorithms/AlgItemAvg.cpp)\n",
        "\n"
      ]
    },
    {
      "metadata": {
        "id": "h9Z9cKZJTbVl",
        "colab_type": "code",
        "colab": {
          "base_uri": "https://localhost:8080/",
          "height": 50
        },
        "outputId": "b8a24c9d-c6f2-4c81-d2f0-1ca2ffc31f13"
      },
      "cell_type": "code",
      "source": [
        "# Predecir rating que el usuario ID 457 le dará al ítem ID 37\n",
        "print(myitemavg.predict('457', '37'))\n",
        "myitemavg.predict('1', '37')"
      ],
      "execution_count": 15,
      "outputs": [
        {
          "output_type": "stream",
          "text": [
            "2.3333332538604736\n"
          ],
          "name": "stdout"
        },
        {
          "output_type": "execute_result",
          "data": {
            "text/plain": [
              "2.3333332538604736"
            ]
          },
          "metadata": {
            "tags": []
          },
          "execution_count": 15
        }
      ]
    },
    {
      "metadata": {
        "id": "FAmYXWtWXg3D",
        "colab_type": "text"
      },
      "cell_type": "markdown",
      "source": [
        "**Ejecute el mismo comando anterior para predecir esta vez el rating que el usuario 498 dará al item 37 ¿Qué rating da? ¿Cómo se explica este resultado?**"
      ]
    },
    {
      "metadata": {
        "id": "LZuWe5vlQNdR",
        "colab_type": "code",
        "colab": {
          "base_uri": "https://localhost:8080/",
          "height": 34
        },
        "outputId": "86af2c93-8e54-4123-f5de-a284fe8cfb13"
      },
      "cell_type": "code",
      "source": [
        "# COMPLETAR\n",
        "\n",
        "myitemavg.predict('498', '37')"
      ],
      "execution_count": 17,
      "outputs": [
        {
          "output_type": "execute_result",
          "data": {
            "text/plain": [
              "2.3333332538604736"
            ]
          },
          "metadata": {
            "tags": []
          },
          "execution_count": 17
        }
      ]
    },
    {
      "metadata": {
        "id": "wJvLQ2HoYrCX",
        "colab_type": "text"
      },
      "cell_type": "markdown",
      "source": [
        "**Respuesta:** Este resultado se explica porque este algoritmo funciona asignando a la predicción el rating promedio que toda la comunidad le ha dado a ese item. Por lo que a todos los usuarios les dará la misma predicción para el mismo item."
      ]
    },
    {
      "metadata": {
        "id": "Fr40bOYsXtnP",
        "colab_type": "code",
        "colab": {
          "base_uri": "https://localhost:8080/",
          "height": 34
        },
        "outputId": "a380b675-425f-43b3-88f5-2fb15c37bb4f"
      },
      "cell_type": "code",
      "source": [
        "# Generar lista de 5 recomendaciones para el usuario con ID 457\n",
        "\n",
        "reclist_iavg = myitemavg.recommend('457', 5)\n",
        "print(reclist_iavg)"
      ],
      "execution_count": 18,
      "outputs": [
        {
          "output_type": "stream",
          "text": [
            "['1500', '1653', '1599', '1189', '1467']\n"
          ],
          "name": "stdout"
        }
      ]
    },
    {
      "metadata": {
        "id": "_ZdUT93BMYgq",
        "colab_type": "text"
      },
      "cell_type": "markdown",
      "source": [
        "**Genere una lista de 10 recomendaciones para el usuario ID 478 ¿Cómo se explican las recomendaciones del método para este usuario comparadas con las del usuario 457?**"
      ]
    },
    {
      "metadata": {
        "id": "6_9NNOGoaAzi",
        "colab_type": "code",
        "colab": {
          "base_uri": "https://localhost:8080/",
          "height": 218
        },
        "outputId": "bde2087e-c0cb-45be-a33c-c3b528a934c8"
      },
      "cell_type": "code",
      "source": [
        "# COMPLETAR\n",
        "reclist = myitemavg.recommend('478', 10  )\n",
        "print(\"Recomendación user 478 \", reclist)\n",
        "print(\"Recomendación user 457 \", myitemavg.recommend('457', 10 ))\n",
        "\n",
        "for item in range(len(reclist)):\n",
        "  reclist_iavg = myitemavg.predict('457', reclist[item])\n",
        "  print((item+1),\") \",reclist_iavg)"
      ],
      "execution_count": 19,
      "outputs": [
        {
          "output_type": "stream",
          "text": [
            "Recomendación user 478  ['1500', '1653', '1599', '1189', '1467', '1293', '1201', '1122', '1449', '1367']\n",
            "Recomendación user 457  ['1500', '1653', '1599', '1189', '1467', '1293', '1201', '1122', '1449', '1367']\n",
            "1 )  5.0\n",
            "2 )  5.0\n",
            "3 )  5.0\n",
            "4 )  5.0\n",
            "5 )  5.0\n",
            "6 )  5.0\n",
            "7 )  5.0\n",
            "8 )  5.0\n",
            "9 )  4.714285850524902\n",
            "10 )  4.666666507720947\n"
          ],
          "name": "stdout"
        }
      ]
    },
    {
      "metadata": {
        "id": "4ndrsHNOYujg",
        "colab_type": "text"
      },
      "cell_type": "markdown",
      "source": [
        "**Respuesta:** Este resultado se explica por la misma razón anterior, dado que a todos los usuarios les dará la misma predicción para el mismo item, lógicamente los 10 itemes mejor rankeados serán los mismos para toda la comunidad.\n"
      ]
    },
    {
      "metadata": {
        "id": "4WV4L4lmOW5-",
        "colab_type": "text"
      },
      "cell_type": "markdown",
      "source": [
        "**¿Cuáles son los títulos de las películas recomendadas por el método *ItemAvg* para el usuario 457 ? ¿Qué le parecen estas recomendaciones comparadas con el método *MostPopular*?**"
      ]
    },
    {
      "metadata": {
        "id": "S9TLKRK-O8FH",
        "colab_type": "code",
        "colab": {
          "base_uri": "https://localhost:8080/",
          "height": 470
        },
        "outputId": "aa4d8c40-d146-413c-d63e-331b37476ec8"
      },
      "cell_type": "code",
      "source": [
        "# COMPLETAR\n",
        "print(\"Item Avg para usuario 457\")\n",
        "pelis = np.array(reclist).astype(int)\n",
        "print(info_file.loc[pelis][['title', 'release_date']])\n",
        "\n",
        "print(\"\\nMost Popular para usuario 457\")\n",
        "pelis = np.array(mymp.recommend(\"457\")).astype(int)\n",
        "print(info_file.loc[pelis][['title', 'release_date']])"
      ],
      "execution_count": 20,
      "outputs": [
        {
          "output_type": "stream",
          "text": [
            "Item Avg para usuario 457\n",
            "                                                     title release_date\n",
            "movieid                                                                \n",
            "1500                             Santa with Muscles (1996)  08-Nov-1996\n",
            "1653     Entertaining Angels: The Dorothy Day Story (1996)  27-Sep-1996\n",
            "1599                         Someone Else's America (1995)  10-May-1996\n",
            "1189                                    Prefontaine (1997)  24-Jan-1997\n",
            "1467                  Saint of Fort Washington, The (1993)  01-Jan-1993\n",
            "1293                                       Star Kid (1997)  16-Jan-1998\n",
            "1201            Marlene Dietrich: Shadow and Light (1996)   02-Apr-1996\n",
            "1122                        They Made Me a Criminal (1939)  01-Jan-1939\n",
            "1449                                Pather Panchali (1955)  22-Mar-1996\n",
            "1367                                          Faust (1994)  01-Jan-1994\n",
            "\n",
            "Most Popular para usuario 457\n",
            "                                   title release_date\n",
            "movieid                                              \n",
            "181            Return of the Jedi (1983)  14-Mar-1997\n",
            "258                       Contact (1997)  11-Jul-1997\n",
            "294                     Liar Liar (1997)  21-Mar-1997\n",
            "127                Godfather, The (1972)  01-Jan-1972\n",
            "56                   Pulp Fiction (1994)  01-Jan-1994\n",
            "237                 Jerry Maguire (1996)  13-Dec-1996\n",
            "7                  Twelve Monkeys (1995)  01-Jan-1995\n",
            "172      Empire Strikes Back, The (1980)  01-Jan-1980\n",
            "405           Mission: Impossible (1996)  22-May-1996\n",
            "313                       Titanic (1997)  01-Jan-1997\n"
          ],
          "name": "stdout"
        }
      ]
    },
    {
      "metadata": {
        "id": "VwS5lyPnesYH",
        "colab_type": "text"
      },
      "cell_type": "markdown",
      "source": [
        "**Respuesta:** El fondo está en que reflejan cosas distintas, most popular no refleja \"valoración\" por parte de la comunidad al item, si no que refleja \"popularidad\" (en terminos de qué tan visto ha sido) por parte de la comunidad  un item en particular, y puede ser que aunque la comunidad no valore de forma positiva las películas, estas saldrán recomendadas igual al comienzo de la lista. Esto no pasa con AvgItem, el problema con AvgItem es que items con muy pocos ratings y todos buenos pueden estar mas arriba en la lista de recomendación que items con muchas recomendaciones buenas y una fraccion mala (que generen que el promedio sea menor que el máximo), entonces puede caer en el mismo paradigma anterior en que falla en captar la valoración de la comunidad frente a la introducción al sistema de nuevos items."
      ]
    },
    {
      "metadata": {
        "id": "4swJapWnuCDN",
        "colab_type": "text"
      },
      "cell_type": "markdown",
      "source": [
        "### Wilson score"
      ]
    },
    {
      "metadata": {
        "id": "__CJGKbqHoQc",
        "colab_type": "text"
      },
      "cell_type": "markdown",
      "source": [
        "Otra forma de recomendar cuando se tienen votos positivos y negativos es usando el lower bound del wilson-score como se muestra en https://www.evanmiller.org/how-not-to-sort-by-average-rating.html\n",
        "\n",
        "Como el dataset de movielens contiene ratings, una forma de contabilizar estos como votos es asignando los ratings superiores a un valor definido como votos positivos y los demás como negativos."
      ]
    },
    {
      "metadata": {
        "id": "_XCaYeUhuFDl",
        "colab_type": "code",
        "colab": {}
      },
      "cell_type": "code",
      "source": [
        "from math import sqrt\n",
        "import scipy.stats as st\n",
        "\n",
        "def ci_lower_bound(pos, neg, confidence=.95):\n",
        "    n = pos + neg\n",
        "\n",
        "    if n == 0:\n",
        "        return 0\n",
        "\n",
        "    #z = 1.0 #1.44 = 85%, 1.96 = 95%\n",
        "    z = st.norm.ppf(1-(1-confidence)/2)\n",
        "    phat = float(pos) / n\n",
        "    \n",
        "    return (phat + z*z/(2*n) - z * sqrt((phat*(1-phat)+z*z/(4*n))/n))/(1+z*z/n)"
      ],
      "execution_count": 0,
      "outputs": []
    },
    {
      "metadata": {
        "id": "bKpqL-vdvZH2",
        "colab_type": "code",
        "colab": {}
      },
      "cell_type": "code",
      "source": [
        "item_count = {}\n",
        "for tup in train_file.groupby(['itemid', 'rating']).agg(['count']).itertuples():\n",
        "  if tup[0][0] not in item_count:\n",
        "    item_count[tup[0][0]] = {}\n",
        "    item_count[tup[0][0]]['pos'] = 0\n",
        "    item_count[tup[0][0]]['neg'] = 0\n",
        "\n",
        "  if tup[0][1] <= 4:\n",
        "    item_count[tup[0][0]]['neg'] += tup[1]\n",
        "  else:\n",
        "    item_count[tup[0][0]]['pos'] += tup[1]\n",
        "    \n",
        "    \n",
        "item_count2 = {}\n",
        "for tup in train_file.groupby(['itemid', 'rating']).agg(['count']).itertuples():\n",
        "  if tup[0][0] not in item_count2:\n",
        "    item_count2[tup[0][0]] = {}\n",
        "    item_count2[tup[0][0]]['pos'] = 0\n",
        "    item_count2[tup[0][0]]['neg'] = 0\n",
        "\n",
        "  if tup[0][1] <= 3:\n",
        "    item_count2[tup[0][0]]['neg'] += tup[1]\n",
        "  else:\n",
        "    item_count2[tup[0][0]]['pos'] += tup[1]"
      ],
      "execution_count": 0,
      "outputs": []
    },
    {
      "metadata": {
        "id": "oAXoSjDXZJ5z",
        "colab_type": "text"
      },
      "cell_type": "markdown",
      "source": [
        "A partir de la funcion ci_lower_bound y el diccionario item_count genere una lista de recomendación usando el wilson score."
      ]
    },
    {
      "metadata": {
        "id": "FXKvDvGnZnfw",
        "colab_type": "code",
        "colab": {
          "base_uri": "https://localhost:8080/",
          "height": 423
        },
        "outputId": "590a2fea-5fb8-44fc-8e1b-8208f905bb15"
      },
      "cell_type": "code",
      "source": [
        "# len(item_count)\n",
        "# print((item_count.keys()))\n",
        "# type(item_count[len(item_count)+1])\n",
        "# item_count[1]['pos']\n",
        "# item_count[1]['neg']\n",
        "\n",
        "from collections import Counter\n",
        "\n",
        "ws_list = Counter()\n",
        "ws_list2 = Counter()\n",
        "ws_list3 = Counter()\n",
        "\n",
        "\n",
        "print(\"\\tpos\\tneg\\t       Wilson score\")\n",
        "for item in item_count:\n",
        "  ws_list[(item)] = ci_lower_bound(item_count[item]['pos'], item_count[item]['neg'], confidence=.95)\n",
        "  ws_list2[(item)] = ci_lower_bound(item_count2[item]['pos'], item_count2[item]['neg'], confidence=.95)\n",
        "  ws_list3[(item)] = ci_lower_bound(item_count[item]['pos'], item_count[item]['neg'], confidence=.99)\n",
        "  \n",
        "ws_list = (sorted(ws_list.items(), key=lambda pair: pair[1], reverse=True)) \n",
        "ws_list2 = (sorted(ws_list2.items(), key=lambda pair: pair[1], reverse=True)) \n",
        "ws_list3 = (sorted(ws_list3.items(), key=lambda pair: pair[1], reverse=True)) \n",
        "\n",
        "\n",
        "print(\"Wilson score para usuario 457\")\n",
        "pelis = [k for k,l in ws_list]\n",
        "pelis2 = [k for k,l in ws_list2]\n",
        "pelis3 = [k for k,l in ws_list3]\n",
        "\n",
        "ratings =  [(item_count[k]['pos'],item_count[k]['neg']) for k in pelis]\n",
        "ratings2 =  [(item_count2[k]['pos'],item_count2[k]['neg']) for k in pelis2]\n",
        "ratings3 =  [(item_count[k]['pos'],item_count[k]['neg']) for k in pelis3]\n",
        "\n",
        "print(info_file.loc[pelis[:10]][['title', 'release_date']])\n",
        "\n",
        "print(\"\\nWilson Score - Preg.1:\",ws_list[:10])\n",
        "print(\"evaluaciones (pos/neg):\", ratings[:10])\n",
        "\n",
        "print(\"\\nWilson Score - Preg.2:\",ws_list2[:10])\n",
        "print(\"evaluaciones (pos/neg):\",ratings2[:10])\n",
        "\n",
        "print(\"\\nWilson Score - Preg.3:\",ws_list3[:10])\n",
        "print(\"evaluaciones (pos/neg):\",ratings3[:10])\n"
      ],
      "execution_count": 87,
      "outputs": [
        {
          "output_type": "stream",
          "text": [
            "\tpos\tneg\t       Wilson score\n",
            "Wilson score para usuario 457\n",
            "                                    title release_date\n",
            "movieid                                               \n",
            "318               Schindler's List (1993)  01-Jan-1993\n",
            "408                 Close Shave, A (1995)  28-Apr-1996\n",
            "169            Wrong Trousers, The (1993)  01-Jan-1993\n",
            "50                       Star Wars (1977)  01-Jan-1977\n",
            "483                     Casablanca (1942)  01-Jan-1942\n",
            "64       Shawshank Redemption, The (1994)  01-Jan-1994\n",
            "12             Usual Suspects, The (1995)  14-Aug-1995\n",
            "313                        Titanic (1997)  01-Jan-1997\n",
            "127                 Godfather, The (1972)  01-Jan-1972\n",
            "1293                      Star Kid (1997)  16-Jan-1998\n",
            "\n",
            "Wilson Score - Preg.1: [(318, 0.5784826200085438), (408, 0.5549092077246491), (169, 0.5191274393745442), (50, 0.5153938358658606), (483, 0.5093214077883184), (64, 0.49939802101539893), (12, 0.49178606769296224), (313, 0.4611521755653467), (127, 0.44715073217160467), (1293, 0.4385029682449545)]\n",
            "evaluaciones (pos/neg): [(152, 85), (61, 32), (60, 37), (271, 213), (113, 82), (126, 97), (118, 93), (144, 133), (170, 170), (3, 0)]\n",
            "\n",
            "Wilson Score - Preg.2: [(318, 0.8537467434070725), (64, 0.8397446797459144), (427, 0.8346132660873801), (169, 0.8329911632283566), (479, 0.8318911755535336), (98, 0.8309188299507383), (408, 0.8262133606698858), (50, 0.8234709836874297), (483, 0.823401329787541), (12, 0.8202250014327451)]\n",
            "evaluaciones (pos/neg): [(213, 24), (198, 25), (160, 20), (88, 9), (126, 15), (262, 38), (84, 9), (415, 69), (171, 24), (184, 27)]\n",
            "\n",
            "Wilson Score - Preg.3: [(318, 0.5582610413404616), (408, 0.5224987234880004), (50, 0.5013760019747264), (169, 0.4878275379645498), (483, 0.48728751037612855), (64, 0.4788544383008896), (12, 0.470730057044145), (313, 0.4429771902241397), (127, 0.430824717265862), (98, 0.4101850310124998)]\n",
            "evaluaciones (pos/neg): [(152, 85), (61, 32), (271, 213), (60, 37), (113, 82), (126, 97), (118, 93), (144, 133), (170, 170), (145, 155)]\n"
          ],
          "name": "stdout"
        }
      ]
    },
    {
      "metadata": {
        "id": "q1_O2SidXuDh",
        "colab_type": "text"
      },
      "cell_type": "markdown",
      "source": [
        "PREGUNTAS:\n",
        "1. Cómo considera este ranking respecto a Most Popular y a Rating Promedio? explique.\n",
        "\n",
        "**RESPUESTA:** Este algoritmo corrige las anomalías discutidas en la sección anterios, ya que balancea en la proporción de items positivos con la incertidumbre introducida por items con pocas evaluaciones, por lo tanto, lo que nos dice es qué porcentaje de las personas que vean este item lo evalúen positivamente, con un 95% de confianza. Esto evita que items con pocas evaluaciones queden arriba en la lista\n",
        "\n",
        "2. Cuál sería el efecto en el ranking de cambiar el umbral de rating positivo de  $r \\geq 4$ a $r \\geq 3$\n",
        "\n",
        "**RESPUESTA:** \n",
        "Al bajar el umbral para discriminar rating positivos lo que ocurre es que una fracción de ratings que antes eran considerados negativos ahora son considerados positivos, por lo que la proporción de ratings negativos baja y esto se ve penalizado pudiendo bajar de relevancia algunos items. Por ejemplo, con el umbral fijo en 4, el item *408 (A Close Shave)* queda recomendado en la segunda posición, con una proporcion de ratings positivos de (61/93), pero al bajarlo a 3, la proporción sube  a *(84/93)*  (aumentando la asimetría en la función de probabilidad que es luego usada para generar el intervalo), lo que se ve penalizado drásticamente en término $p_+ *(1-p_+)$, haciendo que baje su ranking al 7° lugar en el segundo caso, algo similar ocurre con el item *169 (The Wrong Trousers)*  o *50 (Star Wars)*. En el fondo lo que ocurre es el que modelo se robustece frente a desviaciones de la normalidad de $p_+$ (en el sentido de una distribución normal donde la mitad de los casos cae a cada lado de la curva, ver figura).\n",
        "\n",
        "![alt text](https://i.stack.imgur.com/pwqMa.png)\n",
        "\n",
        "\n",
        "3. Cuál es el efecto de cambiar el valor (1-$\\alpha$) de 0.95 a 0.99 en la lista rankeada ?\n",
        "\n",
        "**RESPUESTA:** Naturalmente, al aumentar el nivel de confianza, el algoritmo se robustece más frente a las asimetrías mencionadas recientemente, por lo que algunos itemes, más simétricos en su distribución o con un mejor tamaño de muestra, quedarán mejor rankeados, como lo que pasa con los itemes *169 (The Wrong Trousers)*  o *50 (Star Wars)* con un $p_+$ de 0,618 y 0,5599 respectivamente  (el segundo es más simétrico), que al elevar el nivel de confianza se invierten en el ranking.\n"
      ]
    },
    {
      "metadata": {
        "id": "25-mzEfqe301",
        "colab_type": "text"
      },
      "cell_type": "markdown",
      "source": [
        "### *UserKNN*"
      ]
    },
    {
      "metadata": {
        "id": "ONuL2UkwaqPH",
        "colab_type": "code",
        "colab": {}
      },
      "cell_type": "code",
      "source": [
        "# Declarar el objeto recomendador UserKnn\n",
        "myUserKnn = pyreclab.UserKnn(dataset='u1.base',\n",
        "                             dlmchar=b'\\t',\n",
        "                             header=False,\n",
        "                             usercol=0,\n",
        "                             itemcol=1,\n",
        "                             ratingcol=2)\n"
      ],
      "execution_count": 0,
      "outputs": []
    },
    {
      "metadata": {
        "id": "uhjC9eRYaqPK",
        "colab_type": "code",
        "colab": {}
      },
      "cell_type": "code",
      "source": [
        "# Entrenamos el modelo con los datos existentes\n",
        "# Recuerde que se puede probar el parámetro k de cantidad de vecinos\n",
        "# así como la métrica de similaridad (pearson, cosine)\n",
        "myUserKnn.train(7, 'pearson')"
      ],
      "execution_count": 0,
      "outputs": []
    },
    {
      "metadata": {
        "id": "1yxaz2otfABG",
        "colab_type": "text"
      },
      "cell_type": "markdown",
      "source": [
        "#### Preguntas"
      ]
    },
    {
      "metadata": {
        "id": "dsByYnKBdWmP",
        "colab_type": "text"
      },
      "cell_type": "markdown",
      "source": [
        "**Según el modelo de recomendación UserKnn, qué rating le dará el usuario 457 al item 37 ?**"
      ]
    },
    {
      "metadata": {
        "id": "feSl8bmBaqPO",
        "colab_type": "code",
        "colab": {
          "base_uri": "https://localhost:8080/",
          "height": 34
        },
        "outputId": "779b4e4b-08d4-42ab-f8b0-c69b7a61f401"
      },
      "cell_type": "code",
      "source": [
        "# COMPLETAR\n",
        "prediction = myUserKnn.predict( \"457\", \"37\" )\n",
        "print(prediction)"
      ],
      "execution_count": 60,
      "outputs": [
        {
          "output_type": "stream",
          "text": [
            "3.1338725090026855\n"
          ],
          "name": "stdout"
        }
      ]
    },
    {
      "metadata": {
        "id": "I-iqQvAdTTCP",
        "colab_type": "text"
      },
      "cell_type": "markdown",
      "source": [
        "**Respuesta:** COMPLETAR"
      ]
    },
    {
      "metadata": {
        "id": "U9apdVjVda1Q",
        "colab_type": "text"
      },
      "cell_type": "markdown",
      "source": [
        "**Escriba los nombres de las películas recomendadas por el método knn**"
      ]
    },
    {
      "metadata": {
        "id": "otr7zq1jaqPR",
        "colab_type": "code",
        "colab": {
          "base_uri": "https://localhost:8080/",
          "height": 286
        },
        "outputId": "3d1ec4b7-3f54-45dc-8d4c-9f2e4abce148"
      },
      "cell_type": "code",
      "source": [
        "# COMPLETAR\n",
        "ranking4 = myUserKnn.recommend( \"457\")\n",
        "print(ranking4)\n",
        "\n",
        "print(\"\\nUser Knn Reclist para usuario 457\")\n",
        "pelis = np.array(ranking4).astype(int)\n",
        "print(info_file.loc[pelis][['title', 'release_date']])\n",
        "\n",
        "ratings =  [(item_count[k]['pos'],item_count[k]['neg']) for k in pelis]\n",
        "print(\"(pos/neg) user Knn Reclist\", ratings)"
      ],
      "execution_count": 88,
      "outputs": [
        {
          "output_type": "stream",
          "text": [
            "['1467', '1599', '1642', '1653', '1358', '1233', '1449', '1500', '1361', '1293']\n",
            "\n",
            "User Knn Reclist para usuario 457\n",
            "                                                     title release_date\n",
            "movieid                                                                \n",
            "1467                  Saint of Fort Washington, The (1993)  01-Jan-1993\n",
            "1599                         Someone Else's America (1995)  10-May-1996\n",
            "1642                              Some Mother's Son (1996)  27-Dec-1996\n",
            "1653     Entertaining Angels: The Dorothy Day Story (1996)  27-Sep-1996\n",
            "1358                                The Deadly Cure (1996)  16-Sep-1996\n",
            "1233                               NÃ©nette et Boni (1996)  01-Jan-1996\n",
            "1449                                Pather Panchali (1955)  22-Mar-1996\n",
            "1500                             Santa with Muscles (1996)  08-Nov-1996\n",
            "1361                  Search for One-eye Jimmy, The (1996)  01-Jan-1996\n",
            "1293                                       Star Kid (1997)  16-Jan-1998\n",
            "(pos/neg) user Knn Reclist [(2, 0), (1, 0), (1, 1), (1, 0), (1, 1), (2, 4), (5, 2), (1, 0), (0, 2), (3, 0)]\n"
          ],
          "name": "stdout"
        }
      ]
    },
    {
      "metadata": {
        "id": "Bi7_nCE7TmOZ",
        "colab_type": "text"
      },
      "cell_type": "markdown",
      "source": [
        "**Respuesta:** COMPLETAR (Respuesta en el output arriba)"
      ]
    },
    {
      "metadata": {
        "id": "Rz-__gkJfr-W",
        "colab_type": "text"
      },
      "cell_type": "markdown",
      "source": [
        "Analizar de tal forma de minimizar el número de vecinos viendo el error (RMSE)"
      ]
    },
    {
      "metadata": {
        "id": "2pJZT9TfaLxC",
        "colab_type": "text"
      },
      "cell_type": "markdown",
      "source": [
        "Un ejemplo de como obtener las listas de recomendación junto con sus métricas para el dataset de test:"
      ]
    },
    {
      "metadata": {
        "id": "jE2w47T5aI78",
        "colab_type": "code",
        "colab": {}
      },
      "cell_type": "code",
      "source": [
        "predlist, mae, rmse = myUserKnn.test(input_file='u1.test',\n",
        "                                     dlmchar=b'\\t',\n",
        "                                     header=False,\n",
        "                                     usercol=0,\n",
        "                                     itemcol=1,\n",
        "                                     ratingcol=2,\n",
        "                                     output_file='predictions.csv')"
      ],
      "execution_count": 0,
      "outputs": []
    },
    {
      "metadata": {
        "id": "I1Ovyp4vNz4Y",
        "colab_type": "code",
        "colab": {
          "base_uri": "https://localhost:8080/",
          "height": 34
        },
        "outputId": "c8336eaf-a89d-44b8-d920-9f774cb9616a"
      },
      "cell_type": "code",
      "source": [
        "print(mae, rmse)"
      ],
      "execution_count": 63,
      "outputs": [
        {
          "output_type": "stream",
          "text": [
            "0.7905333901762914 1.005357873576839\n"
          ],
          "name": "stdout"
        }
      ]
    },
    {
      "metadata": {
        "id": "RAopWlDdaaCx",
        "colab_type": "text"
      },
      "cell_type": "markdown",
      "source": [
        "A partir del ejemplo anterior probar para distintos valores de k y evaluar en base al error de prediccion (RMSE)"
      ]
    },
    {
      "metadata": {
        "id": "C-te1p0oaUU_",
        "colab_type": "code",
        "colab": {}
      },
      "cell_type": "code",
      "source": [
        "#COMPLETAR\n",
        "\n",
        "mae_list, rmse_list = [],[]\n",
        "parametros =  np.arange(1,31)\n",
        "\n",
        "for k in parametros:\n",
        "  myUserKnn.train(k, 'pearson')\n",
        "  predlist, mae, rmse = myUserKnn.test(input_file='u1.test',\n",
        "                                     dlmchar=b'\\t',\n",
        "                                     header=False,\n",
        "                                     usercol=0,\n",
        "                                     itemcol=1,\n",
        "                                     ratingcol=2,\n",
        "                                     output_file='predictions.csv')\n",
        "  mae_list.append(mae)\n",
        "  rmse_list.append(rmse)"
      ],
      "execution_count": 0,
      "outputs": []
    },
    {
      "metadata": {
        "id": "2_k3LfZKraPe",
        "colab_type": "code",
        "colab": {
          "base_uri": "https://localhost:8080/",
          "height": 104
        },
        "outputId": "326e5383-e463-461a-bf45-e647a6b84c6f"
      },
      "cell_type": "code",
      "source": [
        "print(parametros)\n",
        "print(mae_list)\n",
        "print(rmse_list)"
      ],
      "execution_count": 82,
      "outputs": [
        {
          "output_type": "stream",
          "text": [
            "[ 1  2  3  4  5  6  7  8  9 10 11 12 13 14 15 16 17 18 19 20 21 22 23 24\n",
            " 25 26 27 28 29 30]\n",
            "[0.852112943425713, 0.8564303985138891, 0.8566367410259867, 0.8548673835858485, 0.8521662474352527, 0.8490600017305269, 0.8458085233108561, 0.8425869373547278, 0.8394687395129009, 0.8364828780859708, 0.8336400969134091, 0.8309609999641209, 0.8284134442475779, 0.8260008507178204, 0.8237340710169144, 0.8215526059276016, 0.8194951242873274, 0.8175616010779805, 0.8157233414820573, 0.8139738220757913, 0.8123039921653271, 0.8107137364932886, 0.8091939906237369, 0.8077409681202945, 0.806355120297454, 0.8050268483105736, 0.8037593243486968, 0.8025466707458259, 0.8013815518162865, 0.8002594415026182]\n",
            "[1.091733536511761, 1.09671366102666, 1.096313933163699, 1.0935856515335283, 1.0898258440912034, 1.085632652105077, 1.081329294956156, 1.0771154839132602, 1.0730773641468987, 1.069215650726543, 1.065538268817045, 1.062076708959799, 1.0587902982289092, 1.0556698321839046, 1.052730374898029, 1.0499256122822955, 1.0472769353640523, 1.0447792907392897, 1.042401744734712, 1.040142764015142, 1.0379894547881525, 1.0359382590054445, 1.0339781637720857, 1.032108188628987, 1.0303191484135108, 1.0286003721721402, 1.0269616858067412, 1.0253945874158916, 1.0238906988106324, 1.0224417117905271]\n"
          ],
          "name": "stdout"
        }
      ]
    },
    {
      "metadata": {
        "id": "ZOmWY3eIiMFm",
        "colab_type": "text"
      },
      "cell_type": "markdown",
      "source": [
        "Graficar los resultados anteriores (MAE y RMSE), los que deberían verse algo así:\n",
        "\n",
        "![MAE](https://fotos.subefotos.com/819d05796c6e1da8ec11637788c677aco.png)\n",
        "\n",
        "![RMSE](https://fotos.subefotos.com/6148bcf1c0fdd7ffc0046b04f3f455b5o.png)\n",
        "\n",
        "1.   Elemento de lista\n",
        "2.   Elemento de lista\n",
        "\n"
      ]
    },
    {
      "metadata": {
        "id": "aWWrWohzsZ9a",
        "colab_type": "code",
        "colab": {
          "base_uri": "https://localhost:8080/",
          "height": 376
        },
        "outputId": "4e19c58c-a74b-43e9-d113-d5a55c1a0dc9"
      },
      "cell_type": "code",
      "source": [
        "import matplotlib.pyplot as plt\n",
        "plt.plot(parametros, mae_list, marker='o', linestyle='--', color='r', label='MAE')\n",
        "plt.plot(parametros, rmse_list, marker='o', linestyle='--', color='b', label='RMSE')\n",
        "\n",
        "# plt.plot(radius, area)\n",
        "plt.xlabel('Neighborhoods #')\n",
        "plt.ylabel('Error')\n",
        "plt.title('Error vs Neighborhoods #')\n",
        "plt.legend()\n",
        "plt.show()"
      ],
      "execution_count": 90,
      "outputs": [
        {
          "output_type": "display_data",
          "data": {
            "image/png": "[encoded data removed]",
            "text/plain": [
              "<matplotlib.figure.Figure at 0x7fdf06cc9748>"
            ]
          },
          "metadata": {
            "tags": []
          }
        }
      ]
    },
    {
      "metadata": {
        "id": "W9k1uKkzHoiI",
        "colab_type": "text"
      },
      "cell_type": "markdown",
      "source": [
        ""
      ]
    },
    {
      "metadata": {
        "id": "CsXhKArSfgvX",
        "colab_type": "text"
      },
      "cell_type": "markdown",
      "source": [
        "### *Slope One* (Opcional)"
      ]
    },
    {
      "metadata": {
        "id": "qKspTai4NCNb",
        "colab_type": "text"
      },
      "cell_type": "markdown",
      "source": [
        "**Replicar todo el análisis de UserKNN con el método SlopeOne\n",
        "**"
      ]
    },
    {
      "metadata": {
        "id": "9Ccp5ed2MXk_",
        "colab_type": "code",
        "colab": {}
      },
      "cell_type": "code",
      "source": [
        "mySlopeOne = pyreclab.SlopeOne(dataset='u1.base',\n",
        "                             dlmchar=b'\\t',\n",
        "                             header=False,\n",
        "                             usercol=0,\n",
        "                             itemcol=1,\n",
        "                             ratingcol=2)\n",
        "mySlopeOne.train()"
      ],
      "execution_count": 0,
      "outputs": []
    },
    {
      "metadata": {
        "id": "dG7E0DYaMXe2",
        "colab_type": "code",
        "colab": {}
      },
      "cell_type": "code",
      "source": [
        "predlist, mae, rmse = mySlopeOne.test(input_file='u1.test',\n",
        "                                     dlmchar=b'\\t',\n",
        "                                     header=False,\n",
        "                                     usercol=0,\n",
        "                                     itemcol=1,\n",
        "                                     ratingcol=2,\n",
        "                                     output_file='predictions.csv')"
      ],
      "execution_count": 0,
      "outputs": []
    },
    {
      "metadata": {
        "id": "XcU6DROlNUBi",
        "colab_type": "code",
        "colab": {
          "base_uri": "https://localhost:8080/",
          "height": 286
        },
        "outputId": "8558f417-539a-411e-c905-dc51253e2dbf"
      },
      "cell_type": "code",
      "source": [
        "print(\"MAE:\",mae,\"RMSE:\", rmse)\n",
        "\n",
        "ranking5 = mySlopeOne.recommend( \"457\")\n",
        "print(ranking5)\n",
        "\n",
        "print(\"\\nUser SlopeOne Reclist para usuario 457\")\n",
        "pelis = np.array(ranking5).astype(int)\n",
        "print(info_file.loc[pelis][['title', 'release_date']])\n",
        "\n",
        "mae_list, rmse_list = [],[]\n",
        "mae_list.append(mae)\n",
        "rmse_list.append(rmse)\n"
      ],
      "execution_count": 104,
      "outputs": [
        {
          "output_type": "stream",
          "text": [
            "MAE: 0.7828952915105929 RMSE: 0.9946687256820582\n",
            "['1500', '1656', '1653', '1651', '1650', '1645', '1643', '1642', '1639', '1636']\n",
            "\n",
            "User SlopeOne Reclist para usuario 457\n",
            "                                                     title release_date\n",
            "movieid                                                                \n",
            "1500                             Santa with Muscles (1996)  08-Nov-1996\n",
            "1656                                    Little City (1998)  20-Feb-1998\n",
            "1653     Entertaining Angels: The Dorothy Day Story (1996)  27-Sep-1996\n",
            "1651                          Spanish Prisoner, The (1997)  27-Mar-1998\n",
            "1650                               Butcher Boy, The (1998)  01-Jan-1998\n",
            "1645                               Butcher Boy, The (1998)  01-Jan-1998\n",
            "1643                                     Angel Baby (1995)  10-Jan-1997\n",
            "1642                              Some Mother's Son (1996)  27-Dec-1996\n",
            "1639                   Bitter Sugar (Azucar Amargo) (1996)  22-Nov-1996\n",
            "1636                            Brothers in Trouble (1995)  26-Apr-1996\n"
          ],
          "name": "stdout"
        }
      ]
    },
    {
      "metadata": {
        "id": "yvd56CYbfd8P",
        "colab_type": "text"
      },
      "cell_type": "markdown",
      "source": [
        "### *ItemKNN* (Opcional)"
      ]
    },
    {
      "metadata": {
        "id": "BIoEuAPGM922",
        "colab_type": "text"
      },
      "cell_type": "markdown",
      "source": [
        "**Replicar todo el análisis de UserKNN con el método ItemKNN**"
      ]
    },
    {
      "metadata": {
        "id": "uGrUovTmOThd",
        "colab_type": "code",
        "colab": {}
      },
      "cell_type": "code",
      "source": [
        "myItemKnn = pyreclab.ItemKnn(dataset='u1.base',\n",
        "                             dlmchar=b'\\t',\n",
        "                             header=False,\n",
        "                             usercol=0,\n",
        "                             itemcol=1,\n",
        "                             ratingcol=2)\n",
        "myItemKnn.train()"
      ],
      "execution_count": 0,
      "outputs": []
    },
    {
      "metadata": {
        "id": "8fyA1-jsOmXl",
        "colab_type": "code",
        "colab": {}
      },
      "cell_type": "code",
      "source": [
        "predlist, mae, rmse = myItemKnn.test(input_file='u1.test',\n",
        "                                     dlmchar=b'\\t',\n",
        "                                     header=False,\n",
        "                                     usercol=0,\n",
        "                                     itemcol=1,\n",
        "                                     ratingcol=2,\n",
        "                                     output_file='predictions.csv')"
      ],
      "execution_count": 0,
      "outputs": []
    },
    {
      "metadata": {
        "id": "Ewz9VS9-Ou-J",
        "colab_type": "code",
        "colab": {
          "base_uri": "https://localhost:8080/",
          "height": 302
        },
        "outputId": "13da83c7-4e87-4887-c8bd-8da625ec1d57"
      },
      "cell_type": "code",
      "source": [
        "print(\"MAE:\",mae,\"RMSE:\", rmse)\n",
        "\n",
        "ranking6 = myItemKnn.recommend( \"457\")\n",
        "print(ranking6)\n",
        "\n",
        "print(\"\\nUser ItemKnn Reclist para usuario 457\")\n",
        "pelis = np.array(ranking6).astype(int)\n",
        "print(info_file.loc[pelis][['title', 'release_date']])\n",
        "\n",
        "mae_list.append(mae)\n",
        "rmse_list.append(rmse)\n",
        "\n",
        "x = [\"SlopeOne\", \"ItemKnn\"]\n",
        "\n",
        "print(len(x),len(mae_list), len(rmse_list))"
      ],
      "execution_count": 107,
      "outputs": [
        {
          "output_type": "stream",
          "text": [
            "MAE: 0.7828952915105929 RMSE: 0.9946687256820582\n",
            "['1449', '1367', '1639', '1642', '119', '1064', '272', '1594', '850', '515']\n",
            "\n",
            "User ItemKnn Reclist para usuario 457\n",
            "                                          title release_date\n",
            "movieid                                                     \n",
            "1449                     Pather Panchali (1955)  22-Mar-1996\n",
            "1367                               Faust (1994)  01-Jan-1994\n",
            "1639        Bitter Sugar (Azucar Amargo) (1996)  22-Nov-1996\n",
            "1642                   Some Mother's Son (1996)  27-Dec-1996\n",
            "119      Maya Lin: A Strong Clear Vision (1994)  01-Jan-1994\n",
            "1064                           Crossfire (1947)  01-Jan-1947\n",
            "272                    Good Will Hunting (1997)  01-Jan-1997\n",
            "1594                             Everest (1998)  10-Mar-1998\n",
            "850                 Perfect Candidate, A (1996)  27-Sep-1996\n",
            "515                            Boot, Das (1981)  04-Apr-1997\n",
            "2 2 2\n"
          ],
          "name": "stdout"
        }
      ]
    },
    {
      "metadata": {
        "id": "m62xYF6SPDMK",
        "colab_type": "code",
        "colab": {
          "base_uri": "https://localhost:8080/",
          "height": 487
        },
        "outputId": "8f49a662-5992-4f4a-b573-75026dfaf798"
      },
      "cell_type": "code",
      "source": [
        "import numpy as np\n",
        "import matplotlib.pyplot as plt\n",
        " \n",
        "# data to plot\n",
        "n_groups = 2\n",
        "means_frank = (90, 55, 40, 65)\n",
        "means_guido = (85, 62, 54, 20)\n",
        " \n",
        "# create plot\n",
        "fig, ax = plt.subplots()\n",
        "index = np.arange(n_groups)\n",
        "bar_width = 0.35\n",
        "opacity = 0.8\n",
        " \n",
        "rects1 = plt.bar(index, mae_list, bar_width,\n",
        "                 alpha=opacity,\n",
        "                 color='b',\n",
        "                 label='MAE')\n",
        " \n",
        "rects2 = plt.bar(index + bar_width, rmse_list, bar_width,\n",
        "                 alpha=opacity,\n",
        "                 color='g',\n",
        "                 label='RMSE')\n",
        " \n",
        "plt.ylabel('Error')\n",
        "plt.title('Algorithm MAE & RMSE')\n",
        "plt.xticks(index + bar_width, ('SlopeOne', 'ItemKnn'))\n",
        "\n",
        "\n",
        "\n",
        "plt.legend()\n",
        " \n",
        "plt.tight_layout()\n",
        "plt.show()"
      ],
      "execution_count": 116,
      "outputs": [
        {
          "output_type": "display_data",
          "data": {
            "image/png": "[encoded data removed]",
            "text/plain": [
              "<matplotlib.figure.Figure at 0x7fdeffbc6198>"
            ]
          },
          "metadata": {
            "tags": []
          }
        }
      ]
    }
  ]
}